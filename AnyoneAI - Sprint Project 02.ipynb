{
 "cells": [
  {
   "attachments": {},
   "cell_type": "markdown",
   "id": "9d3c07ee-c3bf-4530-812a-36405502b38d",
   "metadata": {
    "id": "9d3c07ee-c3bf-4530-812a-36405502b38d"
   },
   "source": [
    "# AnyoneAI - Sprint Project 02\n",
    "> Home Credit Default Risk\n",
    "\n",
    "You've been learning a lot about Machine Learning Algorithms, now we you're gonna be asked to put it all togheter. \n",
    "\n",
    "You will create a complete pipeline to preprocess the data, train your model and then predict values for the [Home Credit Default Risk](https://www.kaggle.com/competitions/home-credit-default-risk/) Kaggle competition.\n"
   ]
  },
  {
   "attachments": {},
   "cell_type": "markdown",
   "id": "e396c950-04b0-453e-b930-a22a96cee2d1",
   "metadata": {
    "id": "e396c950-04b0-453e-b930-a22a96cee2d1"
   },
   "source": [
    "## 1. Introduction\n",
    "\n",
    "This is a binary Classification task: we want to predict whether the person applying for a home credit will be able to repay their debt or not. Our model will have to predict a 1 indicating the client will have payment difficulties: he/she will have late payment of more than X days on at least one of the first Y installments of the loan in our sample, 0 in all other cases.\n",
    "\n",
    "The dataset is composed of multiple files with different information about loans taken. In this project, we will work exclusively with the primary files: `application_train_aai.csv` and `application_test_aai.csv`.\n",
    "\n",
    "We will use [Area Under the ROC Curve](https://developers.google.com/machine-learning/crash-course/classification/roc-and-auc?hl=es_419) as the evaluation metric, so our models will have to return the probabilities that a loan is not paid for each row."
   ]
  },
  {
   "cell_type": "code",
   "execution_count": 2,
   "id": "OzQjTwlkUT0C",
   "metadata": {
    "executionInfo": {
     "elapsed": 2252,
     "status": "ok",
     "timestamp": 1670194396248,
     "user": {
      "displayName": "Jose Luis",
      "userId": "17952480099147442429"
     },
     "user_tz": 180
    },
    "id": "OzQjTwlkUT0C"
   },
   "outputs": [],
   "source": [
    "%load_ext autoreload\n",
    "%autoreload 2\n",
    "\n",
    "# Import libraries\n",
    "from sklearn.ensemble import RandomForestClassifier\n",
    "from sklearn.linear_model import LogisticRegression\n",
    "from sklearn.metrics import roc_auc_score\n",
    "from sklearn.model_selection import RandomizedSearchCV\n",
    "from sklearn.utils.validation import check_is_fitted\n",
    "\n",
    "import numpy as np\n",
    "import pandas as pd\n",
    "import matplotlib.pyplot as plt\n",
    "import seaborn as sns\n",
    "\n",
    "from src import config, data_utils, preprocessing\n",
    "sns.set_theme()"
   ]
  },
  {
   "attachments": {},
   "cell_type": "markdown",
   "id": "3ab085b5-379c-4e02-9f96-08edf5dbf887",
   "metadata": {
    "id": "3ab085b5-379c-4e02-9f96-08edf5dbf887"
   },
   "source": [
    "### Getting the data\n",
    "\n",
    "To access the data for this project, you only need to execute the code below. This will download three files inside the `dataset` folder:\n",
    "\n",
    "- `application_train_aai.csv`: Training dataset you must use to train and find the best hyperparameters on your model.\n",
    "\n",
    "- `application_test_aai.csv`: Test dataset without labels. Because of the absence of labels, you can't use this dataset for your experiments. You will use the file only at the end after you choose what you think is the best model for the tasks. You will have to use that model to fill values in the `TARGET` column using the model predictions. Then submit this dataset alongside this Jupyter notebook, AnyoneAI will internally evaluate your model's accuracy in the hidden data and communicate later ;).\n",
    "\n",
    "- `HomeCredit_columns_description.csv`: This file contains descriptions for the columns in train and test datasets.\n"
   ]
  },
  {
   "attachments": {},
   "cell_type": "markdown",
   "id": "25a0a724-ceb1-40cb-b123-b8c907a9c06f",
   "metadata": {
    "id": "25a0a724-ceb1-40cb-b123-b8c907a9c06f"
   },
   "source": [
    "1.1. Load the training and test datasets. Also, the auxiliary file `HomeCredit_columns_description.csv` has additional information about the features in the dataset."
   ]
  },
  {
   "attachments": {},
   "cell_type": "markdown",
   "id": "MnA4l8-rWraC",
   "metadata": {
    "id": "MnA4l8-rWraC"
   },
   "source": [
    "**Don't change anything in this cell, just make it run correctly**"
   ]
  },
  {
   "cell_type": "code",
   "execution_count": 3,
   "id": "jrkLdOJnWoSS",
   "metadata": {
    "colab": {
     "base_uri": "https://localhost:8080/"
    },
    "executionInfo": {
     "elapsed": 419,
     "status": "ok",
     "timestamp": 1670195316027,
     "user": {
      "displayName": "Jose Luis",
      "userId": "17952480099147442429"
     },
     "user_tz": 180
    },
    "id": "jrkLdOJnWoSS",
    "outputId": "ce9f5ee1-6ed0-4b6f-d8f5-37d38b4e4773"
   },
   "outputs": [
    {
     "name": "stdout",
     "output_type": "stream",
     "text": [
      "Success: app_train shape is correct!\n",
      "Success: app_train type is correct!\n",
      "Success: app_test shape is correct!\n",
      "Success: app_test type is correct!\n"
     ]
    }
   ],
   "source": [
    "app_train, app_test, columns_description = data_utils.get_datasets()\n",
    "\n",
    "\n",
    "if app_train.shape == (246008, 122):\n",
    "    print(\"Success: app_train shape is correct!\")\n",
    "else:\n",
    "    raise ValueError(\"Train dataset shape is incorrect, please review your code\")\n",
    "\n",
    "if isinstance(app_train, pd.DataFrame):\n",
    "    print(\"Success: app_train type is correct!\")\n",
    "else:\n",
    "    raise ValueError(\"Train dataset type is incorrect, please review your code\")\n",
    "\n",
    "if app_test.shape == (61503, 122):\n",
    "    print(\"Success: app_test shape is correct!\")\n",
    "else:\n",
    "    raise ValueError(\"Test dataset shape is incorrect, please review your code\")\n",
    "\n",
    "if isinstance(app_test, pd.DataFrame):\n",
    "    print(\"Success: app_test type is correct!\")\n",
    "else:\n",
    "    raise ValueError(\"Test dataset type is incorrect, please review your code\")"
   ]
  },
  {
   "attachments": {},
   "cell_type": "markdown",
   "id": "7c10a608-5c38-44f4-8158-18225619e7ae",
   "metadata": {
    "id": "7c10a608-5c38-44f4-8158-18225619e7ae",
    "tags": []
   },
   "source": [
    "### Exploratory Data Analysis\n",
    "\n",
    "A lot of the analysis of the data can be found on publicly available Kaggle kernels or blog posts, but you need to make sure you understand the dataset's properties before starting working on it, so we'll do exploratory data analysis for the main files."
   ]
  },
  {
   "attachments": {},
   "cell_type": "markdown",
   "id": "2ea774d3-e12c-4c2b-846d-8c5c03e70928",
   "metadata": {
    "id": "2ea774d3-e12c-4c2b-846d-8c5c03e70928"
   },
   "source": [
    "#### Dataset Basics"
   ]
  },
  {
   "attachments": {},
   "cell_type": "markdown",
   "id": "9f0b4817-5768-49d2-b5f2-907827541f16",
   "metadata": {
    "id": "9f0b4817-5768-49d2-b5f2-907827541f16"
   },
   "source": [
    "1.2. Print how many samples do we have in our train and test datasets."
   ]
  },
  {
   "cell_type": "code",
   "execution_count": 4,
   "id": "6a98fdd5-cbf2-4d20-9559-89c7cf5943cd",
   "metadata": {
    "colab": {
     "base_uri": "https://localhost:8080/"
    },
    "executionInfo": {
     "elapsed": 275,
     "status": "ok",
     "timestamp": 1670195319978,
     "user": {
      "displayName": "Jose Luis",
      "userId": "17952480099147442429"
     },
     "user_tz": 180
    },
    "id": "6a98fdd5-cbf2-4d20-9559-89c7cf5943cd",
    "outputId": "bec830ab-d760-4019-d277-d4249be2948d"
   },
   "outputs": [
    {
     "data": {
      "text/plain": [
       "(246008, 122)"
      ]
     },
     "execution_count": 4,
     "metadata": {},
     "output_type": "execute_result"
    }
   ],
   "source": [
    "### TODO Complete in this cell: shape of the dataset\n",
    "df = app_train\n",
    "df.shape"
   ]
  },
  {
   "attachments": {},
   "cell_type": "markdown",
   "id": "74e7a95b-8288-4ead-8c1e-f2cf68167d8e",
   "metadata": {
    "id": "74e7a95b-8288-4ead-8c1e-f2cf68167d8e"
   },
   "source": [
    "1.3. List all columns in the train dataset."
   ]
  },
  {
   "cell_type": "code",
   "execution_count": 5,
   "id": "d7af2f2e-93db-41e6-bb26-df1ad0be7786",
   "metadata": {
    "colab": {
     "base_uri": "https://localhost:8080/"
    },
    "executionInfo": {
     "elapsed": 313,
     "status": "ok",
     "timestamp": 1670195328520,
     "user": {
      "displayName": "Jose Luis",
      "userId": "17952480099147442429"
     },
     "user_tz": 180
    },
    "id": "d7af2f2e-93db-41e6-bb26-df1ad0be7786",
    "outputId": "cc0cbeb7-edf1-4d3a-cb05-3341232c2606"
   },
   "outputs": [
    {
     "data": {
      "text/plain": [
       "['SK_ID_CURR',\n",
       " 'TARGET',\n",
       " 'NAME_CONTRACT_TYPE',\n",
       " 'CODE_GENDER',\n",
       " 'FLAG_OWN_CAR',\n",
       " 'FLAG_OWN_REALTY',\n",
       " 'CNT_CHILDREN',\n",
       " 'AMT_INCOME_TOTAL',\n",
       " 'AMT_CREDIT',\n",
       " 'AMT_ANNUITY',\n",
       " 'AMT_GOODS_PRICE',\n",
       " 'NAME_TYPE_SUITE',\n",
       " 'NAME_INCOME_TYPE',\n",
       " 'NAME_EDUCATION_TYPE',\n",
       " 'NAME_FAMILY_STATUS',\n",
       " 'NAME_HOUSING_TYPE',\n",
       " 'REGION_POPULATION_RELATIVE',\n",
       " 'DAYS_BIRTH',\n",
       " 'DAYS_EMPLOYED',\n",
       " 'DAYS_REGISTRATION',\n",
       " 'DAYS_ID_PUBLISH',\n",
       " 'OWN_CAR_AGE',\n",
       " 'FLAG_MOBIL',\n",
       " 'FLAG_EMP_PHONE',\n",
       " 'FLAG_WORK_PHONE',\n",
       " 'FLAG_CONT_MOBILE',\n",
       " 'FLAG_PHONE',\n",
       " 'FLAG_EMAIL',\n",
       " 'OCCUPATION_TYPE',\n",
       " 'CNT_FAM_MEMBERS',\n",
       " 'REGION_RATING_CLIENT',\n",
       " 'REGION_RATING_CLIENT_W_CITY',\n",
       " 'WEEKDAY_APPR_PROCESS_START',\n",
       " 'HOUR_APPR_PROCESS_START',\n",
       " 'REG_REGION_NOT_LIVE_REGION',\n",
       " 'REG_REGION_NOT_WORK_REGION',\n",
       " 'LIVE_REGION_NOT_WORK_REGION',\n",
       " 'REG_CITY_NOT_LIVE_CITY',\n",
       " 'REG_CITY_NOT_WORK_CITY',\n",
       " 'LIVE_CITY_NOT_WORK_CITY',\n",
       " 'ORGANIZATION_TYPE',\n",
       " 'EXT_SOURCE_1',\n",
       " 'EXT_SOURCE_2',\n",
       " 'EXT_SOURCE_3',\n",
       " 'APARTMENTS_AVG',\n",
       " 'BASEMENTAREA_AVG',\n",
       " 'YEARS_BEGINEXPLUATATION_AVG',\n",
       " 'YEARS_BUILD_AVG',\n",
       " 'COMMONAREA_AVG',\n",
       " 'ELEVATORS_AVG',\n",
       " 'ENTRANCES_AVG',\n",
       " 'FLOORSMAX_AVG',\n",
       " 'FLOORSMIN_AVG',\n",
       " 'LANDAREA_AVG',\n",
       " 'LIVINGAPARTMENTS_AVG',\n",
       " 'LIVINGAREA_AVG',\n",
       " 'NONLIVINGAPARTMENTS_AVG',\n",
       " 'NONLIVINGAREA_AVG',\n",
       " 'APARTMENTS_MODE',\n",
       " 'BASEMENTAREA_MODE',\n",
       " 'YEARS_BEGINEXPLUATATION_MODE',\n",
       " 'YEARS_BUILD_MODE',\n",
       " 'COMMONAREA_MODE',\n",
       " 'ELEVATORS_MODE',\n",
       " 'ENTRANCES_MODE',\n",
       " 'FLOORSMAX_MODE',\n",
       " 'FLOORSMIN_MODE',\n",
       " 'LANDAREA_MODE',\n",
       " 'LIVINGAPARTMENTS_MODE',\n",
       " 'LIVINGAREA_MODE',\n",
       " 'NONLIVINGAPARTMENTS_MODE',\n",
       " 'NONLIVINGAREA_MODE',\n",
       " 'APARTMENTS_MEDI',\n",
       " 'BASEMENTAREA_MEDI',\n",
       " 'YEARS_BEGINEXPLUATATION_MEDI',\n",
       " 'YEARS_BUILD_MEDI',\n",
       " 'COMMONAREA_MEDI',\n",
       " 'ELEVATORS_MEDI',\n",
       " 'ENTRANCES_MEDI',\n",
       " 'FLOORSMAX_MEDI',\n",
       " 'FLOORSMIN_MEDI',\n",
       " 'LANDAREA_MEDI',\n",
       " 'LIVINGAPARTMENTS_MEDI',\n",
       " 'LIVINGAREA_MEDI',\n",
       " 'NONLIVINGAPARTMENTS_MEDI',\n",
       " 'NONLIVINGAREA_MEDI',\n",
       " 'FONDKAPREMONT_MODE',\n",
       " 'HOUSETYPE_MODE',\n",
       " 'TOTALAREA_MODE',\n",
       " 'WALLSMATERIAL_MODE',\n",
       " 'EMERGENCYSTATE_MODE',\n",
       " 'OBS_30_CNT_SOCIAL_CIRCLE',\n",
       " 'DEF_30_CNT_SOCIAL_CIRCLE',\n",
       " 'OBS_60_CNT_SOCIAL_CIRCLE',\n",
       " 'DEF_60_CNT_SOCIAL_CIRCLE',\n",
       " 'DAYS_LAST_PHONE_CHANGE',\n",
       " 'FLAG_DOCUMENT_2',\n",
       " 'FLAG_DOCUMENT_3',\n",
       " 'FLAG_DOCUMENT_4',\n",
       " 'FLAG_DOCUMENT_5',\n",
       " 'FLAG_DOCUMENT_6',\n",
       " 'FLAG_DOCUMENT_7',\n",
       " 'FLAG_DOCUMENT_8',\n",
       " 'FLAG_DOCUMENT_9',\n",
       " 'FLAG_DOCUMENT_10',\n",
       " 'FLAG_DOCUMENT_11',\n",
       " 'FLAG_DOCUMENT_12',\n",
       " 'FLAG_DOCUMENT_13',\n",
       " 'FLAG_DOCUMENT_14',\n",
       " 'FLAG_DOCUMENT_15',\n",
       " 'FLAG_DOCUMENT_16',\n",
       " 'FLAG_DOCUMENT_17',\n",
       " 'FLAG_DOCUMENT_18',\n",
       " 'FLAG_DOCUMENT_19',\n",
       " 'FLAG_DOCUMENT_20',\n",
       " 'FLAG_DOCUMENT_21',\n",
       " 'AMT_REQ_CREDIT_BUREAU_HOUR',\n",
       " 'AMT_REQ_CREDIT_BUREAU_DAY',\n",
       " 'AMT_REQ_CREDIT_BUREAU_WEEK',\n",
       " 'AMT_REQ_CREDIT_BUREAU_MON',\n",
       " 'AMT_REQ_CREDIT_BUREAU_QRT',\n",
       " 'AMT_REQ_CREDIT_BUREAU_YEAR']"
      ]
     },
     "execution_count": 5,
     "metadata": {},
     "output_type": "execute_result"
    }
   ],
   "source": [
    "### TODO Complete in this cell: Show all columns in the training dataset\n",
    "df.columns.values.tolist()"
   ]
  },
  {
   "attachments": {},
   "cell_type": "markdown",
   "id": "2dc4835f-90c3-4049-9ec2-44d102201104",
   "metadata": {
    "id": "2dc4835f-90c3-4049-9ec2-44d102201104"
   },
   "source": [
    "1.4. Show the first 5 records of the training dataset, transpose the dataframe to see each record as a column and features as rows, make sure all features are visualized. Take your time to review what kind of information you can gather from this data.\n",
    "\n",
    "For reference only, it should look like this:\n",
    "\n",
    "|0|1|2|3|4\n",
    "|---|---|---|---|---\n",
    "Unnamed: 0|187399|84777|268140|270686|33785\n",
    "SK_ID_CURR|317244|198357|410700|413785|139141\n",
    "TARGET|0|0|0|0|0\n",
    "NAME_CONTRACT_TYPE|Cash loans|Cash loans|Cash loans|Cash loans|Cash loans\n",
    "...|...|...|...|...|...\n",
    "AMT_REQ_CREDIT_BUREAU_DAY|0.0|0.0|0.0|0.0|0.0"
   ]
  },
  {
   "cell_type": "code",
   "execution_count": 6,
   "id": "ac9c85b3-52e0-4b80-9753-afb81f92bd0d",
   "metadata": {
    "colab": {
     "base_uri": "https://localhost:8080/",
     "height": 423
    },
    "executionInfo": {
     "elapsed": 305,
     "status": "ok",
     "timestamp": 1670195332530,
     "user": {
      "displayName": "Jose Luis",
      "userId": "17952480099147442429"
     },
     "user_tz": 180
    },
    "id": "ac9c85b3-52e0-4b80-9753-afb81f92bd0d",
    "outputId": "2d56774f-18a2-48f2-f4b4-da9decca6012"
   },
   "outputs": [
    {
     "data": {
      "text/html": [
       "<div>\n",
       "<style scoped>\n",
       "    .dataframe tbody tr th:only-of-type {\n",
       "        vertical-align: middle;\n",
       "    }\n",
       "\n",
       "    .dataframe tbody tr th {\n",
       "        vertical-align: top;\n",
       "    }\n",
       "\n",
       "    .dataframe thead th {\n",
       "        text-align: right;\n",
       "    }\n",
       "</style>\n",
       "<table border=\"1\" class=\"dataframe\">\n",
       "  <thead>\n",
       "    <tr style=\"text-align: right;\">\n",
       "      <th></th>\n",
       "      <th>0</th>\n",
       "      <th>1</th>\n",
       "      <th>2</th>\n",
       "      <th>3</th>\n",
       "      <th>4</th>\n",
       "    </tr>\n",
       "  </thead>\n",
       "  <tbody>\n",
       "    <tr>\n",
       "      <th>SK_ID_CURR</th>\n",
       "      <td>428247</td>\n",
       "      <td>140966</td>\n",
       "      <td>407283</td>\n",
       "      <td>434300</td>\n",
       "      <td>446788</td>\n",
       "    </tr>\n",
       "    <tr>\n",
       "      <th>TARGET</th>\n",
       "      <td>0</td>\n",
       "      <td>0</td>\n",
       "      <td>0</td>\n",
       "      <td>0</td>\n",
       "      <td>0</td>\n",
       "    </tr>\n",
       "    <tr>\n",
       "      <th>NAME_CONTRACT_TYPE</th>\n",
       "      <td>Cash loans</td>\n",
       "      <td>Cash loans</td>\n",
       "      <td>Revolving loans</td>\n",
       "      <td>Cash loans</td>\n",
       "      <td>Cash loans</td>\n",
       "    </tr>\n",
       "    <tr>\n",
       "      <th>CODE_GENDER</th>\n",
       "      <td>F</td>\n",
       "      <td>M</td>\n",
       "      <td>F</td>\n",
       "      <td>F</td>\n",
       "      <td>F</td>\n",
       "    </tr>\n",
       "    <tr>\n",
       "      <th>FLAG_OWN_CAR</th>\n",
       "      <td>N</td>\n",
       "      <td>Y</td>\n",
       "      <td>N</td>\n",
       "      <td>N</td>\n",
       "      <td>N</td>\n",
       "    </tr>\n",
       "    <tr>\n",
       "      <th>FLAG_OWN_REALTY</th>\n",
       "      <td>N</td>\n",
       "      <td>Y</td>\n",
       "      <td>Y</td>\n",
       "      <td>N</td>\n",
       "      <td>N</td>\n",
       "    </tr>\n",
       "    <tr>\n",
       "      <th>CNT_CHILDREN</th>\n",
       "      <td>0</td>\n",
       "      <td>1</td>\n",
       "      <td>0</td>\n",
       "      <td>0</td>\n",
       "      <td>0</td>\n",
       "    </tr>\n",
       "    <tr>\n",
       "      <th>AMT_INCOME_TOTAL</th>\n",
       "      <td>157500.0</td>\n",
       "      <td>90000.0</td>\n",
       "      <td>405000.0</td>\n",
       "      <td>90000.0</td>\n",
       "      <td>67500.0</td>\n",
       "    </tr>\n",
       "    <tr>\n",
       "      <th>AMT_CREDIT</th>\n",
       "      <td>634500.0</td>\n",
       "      <td>1223010.0</td>\n",
       "      <td>540000.0</td>\n",
       "      <td>439740.0</td>\n",
       "      <td>323388.0</td>\n",
       "    </tr>\n",
       "    <tr>\n",
       "      <th>AMT_ANNUITY</th>\n",
       "      <td>30523.5</td>\n",
       "      <td>51948.0</td>\n",
       "      <td>27000.0</td>\n",
       "      <td>18630.0</td>\n",
       "      <td>18054.0</td>\n",
       "    </tr>\n",
       "    <tr>\n",
       "      <th>AMT_GOODS_PRICE</th>\n",
       "      <td>634500.0</td>\n",
       "      <td>1125000.0</td>\n",
       "      <td>540000.0</td>\n",
       "      <td>315000.0</td>\n",
       "      <td>292500.0</td>\n",
       "    </tr>\n",
       "    <tr>\n",
       "      <th>NAME_TYPE_SUITE</th>\n",
       "      <td>Unaccompanied</td>\n",
       "      <td>Unaccompanied</td>\n",
       "      <td>Unaccompanied</td>\n",
       "      <td>Unaccompanied</td>\n",
       "      <td>Unaccompanied</td>\n",
       "    </tr>\n",
       "    <tr>\n",
       "      <th>NAME_INCOME_TYPE</th>\n",
       "      <td>Pensioner</td>\n",
       "      <td>Working</td>\n",
       "      <td>Commercial associate</td>\n",
       "      <td>Working</td>\n",
       "      <td>Working</td>\n",
       "    </tr>\n",
       "    <tr>\n",
       "      <th>NAME_EDUCATION_TYPE</th>\n",
       "      <td>Higher education</td>\n",
       "      <td>Higher education</td>\n",
       "      <td>Higher education</td>\n",
       "      <td>Secondary / secondary special</td>\n",
       "      <td>Secondary / secondary special</td>\n",
       "    </tr>\n",
       "    <tr>\n",
       "      <th>NAME_FAMILY_STATUS</th>\n",
       "      <td>Widow</td>\n",
       "      <td>Married</td>\n",
       "      <td>Single / not married</td>\n",
       "      <td>Married</td>\n",
       "      <td>Married</td>\n",
       "    </tr>\n",
       "    <tr>\n",
       "      <th>NAME_HOUSING_TYPE</th>\n",
       "      <td>House / apartment</td>\n",
       "      <td>House / apartment</td>\n",
       "      <td>House / apartment</td>\n",
       "      <td>House / apartment</td>\n",
       "      <td>House / apartment</td>\n",
       "    </tr>\n",
       "    <tr>\n",
       "      <th>REGION_POPULATION_RELATIVE</th>\n",
       "      <td>0.020713</td>\n",
       "      <td>0.006305</td>\n",
       "      <td>0.032561</td>\n",
       "      <td>0.010966</td>\n",
       "      <td>0.010643</td>\n",
       "    </tr>\n",
       "    <tr>\n",
       "      <th>DAYS_BIRTH</th>\n",
       "      <td>-18445</td>\n",
       "      <td>-13988</td>\n",
       "      <td>-11319</td>\n",
       "      <td>-18640</td>\n",
       "      <td>-19210</td>\n",
       "    </tr>\n",
       "    <tr>\n",
       "      <th>DAYS_EMPLOYED</th>\n",
       "      <td>365243</td>\n",
       "      <td>-875</td>\n",
       "      <td>-2117</td>\n",
       "      <td>-102</td>\n",
       "      <td>-4195</td>\n",
       "    </tr>\n",
       "    <tr>\n",
       "      <th>DAYS_REGISTRATION</th>\n",
       "      <td>-3234.0</td>\n",
       "      <td>-520.0</td>\n",
       "      <td>-5410.0</td>\n",
       "      <td>-9839.0</td>\n",
       "      <td>-90.0</td>\n",
       "    </tr>\n",
       "    <tr>\n",
       "      <th>DAYS_ID_PUBLISH</th>\n",
       "      <td>-572</td>\n",
       "      <td>-4536</td>\n",
       "      <td>-4003</td>\n",
       "      <td>-2111</td>\n",
       "      <td>-2752</td>\n",
       "    </tr>\n",
       "    <tr>\n",
       "      <th>OWN_CAR_AGE</th>\n",
       "      <td>NaN</td>\n",
       "      <td>11.0</td>\n",
       "      <td>NaN</td>\n",
       "      <td>NaN</td>\n",
       "      <td>NaN</td>\n",
       "    </tr>\n",
       "    <tr>\n",
       "      <th>FLAG_MOBIL</th>\n",
       "      <td>1</td>\n",
       "      <td>1</td>\n",
       "      <td>1</td>\n",
       "      <td>1</td>\n",
       "      <td>1</td>\n",
       "    </tr>\n",
       "    <tr>\n",
       "      <th>FLAG_EMP_PHONE</th>\n",
       "      <td>0</td>\n",
       "      <td>1</td>\n",
       "      <td>1</td>\n",
       "      <td>1</td>\n",
       "      <td>1</td>\n",
       "    </tr>\n",
       "    <tr>\n",
       "      <th>FLAG_WORK_PHONE</th>\n",
       "      <td>0</td>\n",
       "      <td>0</td>\n",
       "      <td>0</td>\n",
       "      <td>0</td>\n",
       "      <td>1</td>\n",
       "    </tr>\n",
       "    <tr>\n",
       "      <th>FLAG_CONT_MOBILE</th>\n",
       "      <td>1</td>\n",
       "      <td>1</td>\n",
       "      <td>1</td>\n",
       "      <td>1</td>\n",
       "      <td>1</td>\n",
       "    </tr>\n",
       "    <tr>\n",
       "      <th>FLAG_PHONE</th>\n",
       "      <td>1</td>\n",
       "      <td>0</td>\n",
       "      <td>0</td>\n",
       "      <td>1</td>\n",
       "      <td>0</td>\n",
       "    </tr>\n",
       "    <tr>\n",
       "      <th>FLAG_EMAIL</th>\n",
       "      <td>0</td>\n",
       "      <td>0</td>\n",
       "      <td>0</td>\n",
       "      <td>0</td>\n",
       "      <td>0</td>\n",
       "    </tr>\n",
       "    <tr>\n",
       "      <th>OCCUPATION_TYPE</th>\n",
       "      <td>NaN</td>\n",
       "      <td>Core staff</td>\n",
       "      <td>Accountants</td>\n",
       "      <td>Cleaning staff</td>\n",
       "      <td>Managers</td>\n",
       "    </tr>\n",
       "    <tr>\n",
       "      <th>CNT_FAM_MEMBERS</th>\n",
       "      <td>1.0</td>\n",
       "      <td>3.0</td>\n",
       "      <td>1.0</td>\n",
       "      <td>2.0</td>\n",
       "      <td>2.0</td>\n",
       "    </tr>\n",
       "    <tr>\n",
       "      <th>REGION_RATING_CLIENT</th>\n",
       "      <td>3</td>\n",
       "      <td>3</td>\n",
       "      <td>1</td>\n",
       "      <td>2</td>\n",
       "      <td>2</td>\n",
       "    </tr>\n",
       "    <tr>\n",
       "      <th>REGION_RATING_CLIENT_W_CITY</th>\n",
       "      <td>1</td>\n",
       "      <td>3</td>\n",
       "      <td>1</td>\n",
       "      <td>2</td>\n",
       "      <td>2</td>\n",
       "    </tr>\n",
       "    <tr>\n",
       "      <th>WEEKDAY_APPR_PROCESS_START</th>\n",
       "      <td>TUESDAY</td>\n",
       "      <td>WEDNESDAY</td>\n",
       "      <td>MONDAY</td>\n",
       "      <td>MONDAY</td>\n",
       "      <td>TUESDAY</td>\n",
       "    </tr>\n",
       "    <tr>\n",
       "      <th>HOUR_APPR_PROCESS_START</th>\n",
       "      <td>5</td>\n",
       "      <td>6</td>\n",
       "      <td>15</td>\n",
       "      <td>17</td>\n",
       "      <td>10</td>\n",
       "    </tr>\n",
       "    <tr>\n",
       "      <th>REG_REGION_NOT_LIVE_REGION</th>\n",
       "      <td>0</td>\n",
       "      <td>0</td>\n",
       "      <td>0</td>\n",
       "      <td>0</td>\n",
       "      <td>0</td>\n",
       "    </tr>\n",
       "    <tr>\n",
       "      <th>REG_REGION_NOT_WORK_REGION</th>\n",
       "      <td>0</td>\n",
       "      <td>0</td>\n",
       "      <td>0</td>\n",
       "      <td>0</td>\n",
       "      <td>1</td>\n",
       "    </tr>\n",
       "    <tr>\n",
       "      <th>LIVE_REGION_NOT_WORK_REGION</th>\n",
       "      <td>0</td>\n",
       "      <td>0</td>\n",
       "      <td>0</td>\n",
       "      <td>0</td>\n",
       "      <td>1</td>\n",
       "    </tr>\n",
       "    <tr>\n",
       "      <th>REG_CITY_NOT_LIVE_CITY</th>\n",
       "      <td>0</td>\n",
       "      <td>0</td>\n",
       "      <td>0</td>\n",
       "      <td>0</td>\n",
       "      <td>1</td>\n",
       "    </tr>\n",
       "    <tr>\n",
       "      <th>REG_CITY_NOT_WORK_CITY</th>\n",
       "      <td>0</td>\n",
       "      <td>0</td>\n",
       "      <td>0</td>\n",
       "      <td>0</td>\n",
       "      <td>1</td>\n",
       "    </tr>\n",
       "    <tr>\n",
       "      <th>LIVE_CITY_NOT_WORK_CITY</th>\n",
       "      <td>0</td>\n",
       "      <td>0</td>\n",
       "      <td>0</td>\n",
       "      <td>0</td>\n",
       "      <td>1</td>\n",
       "    </tr>\n",
       "    <tr>\n",
       "      <th>ORGANIZATION_TYPE</th>\n",
       "      <td>XNA</td>\n",
       "      <td>Police</td>\n",
       "      <td>University</td>\n",
       "      <td>Business Entity Type 3</td>\n",
       "      <td>Housing</td>\n",
       "    </tr>\n",
       "    <tr>\n",
       "      <th>EXT_SOURCE_1</th>\n",
       "      <td>NaN</td>\n",
       "      <td>0.432404</td>\n",
       "      <td>0.421398</td>\n",
       "      <td>NaN</td>\n",
       "      <td>NaN</td>\n",
       "    </tr>\n",
       "    <tr>\n",
       "      <th>EXT_SOURCE_2</th>\n",
       "      <td>0.171955</td>\n",
       "      <td>0.618847</td>\n",
       "      <td>0.704739</td>\n",
       "      <td>0.648041</td>\n",
       "      <td>0.645734</td>\n",
       "    </tr>\n",
       "    <tr>\n",
       "      <th>EXT_SOURCE_3</th>\n",
       "      <td>NaN</td>\n",
       "      <td>0.429424</td>\n",
       "      <td>0.499272</td>\n",
       "      <td>0.736623</td>\n",
       "      <td>0.581484</td>\n",
       "    </tr>\n",
       "    <tr>\n",
       "      <th>APARTMENTS_AVG</th>\n",
       "      <td>0.0825</td>\n",
       "      <td>0.1381</td>\n",
       "      <td>NaN</td>\n",
       "      <td>0.1381</td>\n",
       "      <td>0.2062</td>\n",
       "    </tr>\n",
       "    <tr>\n",
       "      <th>BASEMENTAREA_AVG</th>\n",
       "      <td>0.0809</td>\n",
       "      <td>NaN</td>\n",
       "      <td>0.099</td>\n",
       "      <td>NaN</td>\n",
       "      <td>0.0773</td>\n",
       "    </tr>\n",
       "    <tr>\n",
       "      <th>YEARS_BEGINEXPLUATATION_AVG</th>\n",
       "      <td>0.9757</td>\n",
       "      <td>0.9901</td>\n",
       "      <td>0.9608</td>\n",
       "      <td>0.9861</td>\n",
       "      <td>0.9985</td>\n",
       "    </tr>\n",
       "    <tr>\n",
       "      <th>YEARS_BUILD_AVG</th>\n",
       "      <td>0.6668</td>\n",
       "      <td>0.864</td>\n",
       "      <td>0.4628</td>\n",
       "      <td>NaN</td>\n",
       "      <td>0.9796</td>\n",
       "    </tr>\n",
       "    <tr>\n",
       "      <th>COMMONAREA_AVG</th>\n",
       "      <td>0.0078</td>\n",
       "      <td>0.0182</td>\n",
       "      <td>0.026</td>\n",
       "      <td>NaN</td>\n",
       "      <td>0.0243</td>\n",
       "    </tr>\n",
       "    <tr>\n",
       "      <th>ELEVATORS_AVG</th>\n",
       "      <td>0.0</td>\n",
       "      <td>0.0</td>\n",
       "      <td>0.28</td>\n",
       "      <td>0.04</td>\n",
       "      <td>0.28</td>\n",
       "    </tr>\n",
       "    <tr>\n",
       "      <th>ENTRANCES_AVG</th>\n",
       "      <td>0.1379</td>\n",
       "      <td>0.3103</td>\n",
       "      <td>0.2414</td>\n",
       "      <td>0.0345</td>\n",
       "      <td>0.2414</td>\n",
       "    </tr>\n",
       "    <tr>\n",
       "      <th>FLOORSMAX_AVG</th>\n",
       "      <td>0.1667</td>\n",
       "      <td>0.2083</td>\n",
       "      <td>0.1667</td>\n",
       "      <td>0.3333</td>\n",
       "      <td>0.3333</td>\n",
       "    </tr>\n",
       "    <tr>\n",
       "      <th>FLOORSMIN_AVG</th>\n",
       "      <td>0.0</td>\n",
       "      <td>0.2083</td>\n",
       "      <td>0.2083</td>\n",
       "      <td>NaN</td>\n",
       "      <td>0.0417</td>\n",
       "    </tr>\n",
       "    <tr>\n",
       "      <th>LANDAREA_AVG</th>\n",
       "      <td>0.0464</td>\n",
       "      <td>NaN</td>\n",
       "      <td>0.0</td>\n",
       "      <td>0.0663</td>\n",
       "      <td>0.1893</td>\n",
       "    </tr>\n",
       "    <tr>\n",
       "      <th>LIVINGAPARTMENTS_AVG</th>\n",
       "      <td>0.0672</td>\n",
       "      <td>NaN</td>\n",
       "      <td>NaN</td>\n",
       "      <td>NaN</td>\n",
       "      <td>0.1589</td>\n",
       "    </tr>\n",
       "    <tr>\n",
       "      <th>LIVINGAREA_AVG</th>\n",
       "      <td>0.0708</td>\n",
       "      <td>0.1477</td>\n",
       "      <td>0.0964</td>\n",
       "      <td>0.0914</td>\n",
       "      <td>0.2549</td>\n",
       "    </tr>\n",
       "    <tr>\n",
       "      <th>NONLIVINGAPARTMENTS_AVG</th>\n",
       "      <td>0.0</td>\n",
       "      <td>NaN</td>\n",
       "      <td>NaN</td>\n",
       "      <td>NaN</td>\n",
       "      <td>0.0425</td>\n",
       "    </tr>\n",
       "    <tr>\n",
       "      <th>NONLIVINGAREA_AVG</th>\n",
       "      <td>0.0</td>\n",
       "      <td>0.0093</td>\n",
       "      <td>0.0492</td>\n",
       "      <td>0.006</td>\n",
       "      <td>0.0273</td>\n",
       "    </tr>\n",
       "    <tr>\n",
       "      <th>APARTMENTS_MODE</th>\n",
       "      <td>0.084</td>\n",
       "      <td>0.1408</td>\n",
       "      <td>NaN</td>\n",
       "      <td>0.1408</td>\n",
       "      <td>0.2101</td>\n",
       "    </tr>\n",
       "    <tr>\n",
       "      <th>BASEMENTAREA_MODE</th>\n",
       "      <td>0.084</td>\n",
       "      <td>NaN</td>\n",
       "      <td>0.1027</td>\n",
       "      <td>NaN</td>\n",
       "      <td>0.0803</td>\n",
       "    </tr>\n",
       "    <tr>\n",
       "      <th>YEARS_BEGINEXPLUATATION_MODE</th>\n",
       "      <td>0.9757</td>\n",
       "      <td>0.9901</td>\n",
       "      <td>0.9608</td>\n",
       "      <td>0.9861</td>\n",
       "      <td>0.9985</td>\n",
       "    </tr>\n",
       "    <tr>\n",
       "      <th>YEARS_BUILD_MODE</th>\n",
       "      <td>0.6798</td>\n",
       "      <td>0.8693</td>\n",
       "      <td>0.4838</td>\n",
       "      <td>NaN</td>\n",
       "      <td>0.9804</td>\n",
       "    </tr>\n",
       "    <tr>\n",
       "      <th>COMMONAREA_MODE</th>\n",
       "      <td>0.0078</td>\n",
       "      <td>0.0183</td>\n",
       "      <td>0.0263</td>\n",
       "      <td>NaN</td>\n",
       "      <td>0.0246</td>\n",
       "    </tr>\n",
       "    <tr>\n",
       "      <th>ELEVATORS_MODE</th>\n",
       "      <td>0.0</td>\n",
       "      <td>0.0</td>\n",
       "      <td>0.282</td>\n",
       "      <td>0.0403</td>\n",
       "      <td>0.282</td>\n",
       "    </tr>\n",
       "    <tr>\n",
       "      <th>ENTRANCES_MODE</th>\n",
       "      <td>0.1379</td>\n",
       "      <td>0.3103</td>\n",
       "      <td>0.2414</td>\n",
       "      <td>0.0345</td>\n",
       "      <td>0.2414</td>\n",
       "    </tr>\n",
       "    <tr>\n",
       "      <th>FLOORSMAX_MODE</th>\n",
       "      <td>0.1667</td>\n",
       "      <td>0.2083</td>\n",
       "      <td>0.1667</td>\n",
       "      <td>0.3333</td>\n",
       "      <td>0.3333</td>\n",
       "    </tr>\n",
       "    <tr>\n",
       "      <th>FLOORSMIN_MODE</th>\n",
       "      <td>0.0</td>\n",
       "      <td>0.2083</td>\n",
       "      <td>0.2083</td>\n",
       "      <td>NaN</td>\n",
       "      <td>0.0417</td>\n",
       "    </tr>\n",
       "    <tr>\n",
       "      <th>LANDAREA_MODE</th>\n",
       "      <td>0.0475</td>\n",
       "      <td>NaN</td>\n",
       "      <td>0.0</td>\n",
       "      <td>0.0678</td>\n",
       "      <td>0.1936</td>\n",
       "    </tr>\n",
       "    <tr>\n",
       "      <th>LIVINGAPARTMENTS_MODE</th>\n",
       "      <td>0.0735</td>\n",
       "      <td>NaN</td>\n",
       "      <td>NaN</td>\n",
       "      <td>NaN</td>\n",
       "      <td>0.1736</td>\n",
       "    </tr>\n",
       "    <tr>\n",
       "      <th>LIVINGAREA_MODE</th>\n",
       "      <td>0.0738</td>\n",
       "      <td>0.1539</td>\n",
       "      <td>0.1004</td>\n",
       "      <td>0.0952</td>\n",
       "      <td>0.2656</td>\n",
       "    </tr>\n",
       "    <tr>\n",
       "      <th>NONLIVINGAPARTMENTS_MODE</th>\n",
       "      <td>0.0</td>\n",
       "      <td>NaN</td>\n",
       "      <td>NaN</td>\n",
       "      <td>NaN</td>\n",
       "      <td>0.0428</td>\n",
       "    </tr>\n",
       "    <tr>\n",
       "      <th>NONLIVINGAREA_MODE</th>\n",
       "      <td>0.0</td>\n",
       "      <td>0.0098</td>\n",
       "      <td>0.0521</td>\n",
       "      <td>0.0063</td>\n",
       "      <td>0.0289</td>\n",
       "    </tr>\n",
       "    <tr>\n",
       "      <th>APARTMENTS_MEDI</th>\n",
       "      <td>0.0833</td>\n",
       "      <td>0.1395</td>\n",
       "      <td>NaN</td>\n",
       "      <td>0.1395</td>\n",
       "      <td>0.2082</td>\n",
       "    </tr>\n",
       "    <tr>\n",
       "      <th>BASEMENTAREA_MEDI</th>\n",
       "      <td>0.0809</td>\n",
       "      <td>NaN</td>\n",
       "      <td>0.099</td>\n",
       "      <td>NaN</td>\n",
       "      <td>0.0773</td>\n",
       "    </tr>\n",
       "    <tr>\n",
       "      <th>YEARS_BEGINEXPLUATATION_MEDI</th>\n",
       "      <td>0.9757</td>\n",
       "      <td>0.9901</td>\n",
       "      <td>0.9608</td>\n",
       "      <td>0.9861</td>\n",
       "      <td>0.9985</td>\n",
       "    </tr>\n",
       "    <tr>\n",
       "      <th>YEARS_BUILD_MEDI</th>\n",
       "      <td>0.6713</td>\n",
       "      <td>0.8658</td>\n",
       "      <td>0.47</td>\n",
       "      <td>NaN</td>\n",
       "      <td>0.9799</td>\n",
       "    </tr>\n",
       "    <tr>\n",
       "      <th>COMMONAREA_MEDI</th>\n",
       "      <td>0.0078</td>\n",
       "      <td>0.0183</td>\n",
       "      <td>0.0262</td>\n",
       "      <td>NaN</td>\n",
       "      <td>0.0245</td>\n",
       "    </tr>\n",
       "    <tr>\n",
       "      <th>ELEVATORS_MEDI</th>\n",
       "      <td>0.0</td>\n",
       "      <td>0.0</td>\n",
       "      <td>0.28</td>\n",
       "      <td>0.04</td>\n",
       "      <td>0.28</td>\n",
       "    </tr>\n",
       "    <tr>\n",
       "      <th>ENTRANCES_MEDI</th>\n",
       "      <td>0.1379</td>\n",
       "      <td>0.3103</td>\n",
       "      <td>0.2414</td>\n",
       "      <td>0.0345</td>\n",
       "      <td>0.2414</td>\n",
       "    </tr>\n",
       "    <tr>\n",
       "      <th>FLOORSMAX_MEDI</th>\n",
       "      <td>0.1667</td>\n",
       "      <td>0.2083</td>\n",
       "      <td>0.1667</td>\n",
       "      <td>0.3333</td>\n",
       "      <td>0.3333</td>\n",
       "    </tr>\n",
       "    <tr>\n",
       "      <th>FLOORSMIN_MEDI</th>\n",
       "      <td>0.0</td>\n",
       "      <td>0.2083</td>\n",
       "      <td>0.2083</td>\n",
       "      <td>NaN</td>\n",
       "      <td>0.0417</td>\n",
       "    </tr>\n",
       "    <tr>\n",
       "      <th>LANDAREA_MEDI</th>\n",
       "      <td>0.0472</td>\n",
       "      <td>NaN</td>\n",
       "      <td>0.0</td>\n",
       "      <td>0.0675</td>\n",
       "      <td>0.1926</td>\n",
       "    </tr>\n",
       "    <tr>\n",
       "      <th>LIVINGAPARTMENTS_MEDI</th>\n",
       "      <td>0.0684</td>\n",
       "      <td>NaN</td>\n",
       "      <td>NaN</td>\n",
       "      <td>NaN</td>\n",
       "      <td>0.1616</td>\n",
       "    </tr>\n",
       "    <tr>\n",
       "      <th>LIVINGAREA_MEDI</th>\n",
       "      <td>0.0721</td>\n",
       "      <td>0.1504</td>\n",
       "      <td>0.0981</td>\n",
       "      <td>0.093</td>\n",
       "      <td>0.2595</td>\n",
       "    </tr>\n",
       "    <tr>\n",
       "      <th>NONLIVINGAPARTMENTS_MEDI</th>\n",
       "      <td>0.0</td>\n",
       "      <td>NaN</td>\n",
       "      <td>NaN</td>\n",
       "      <td>NaN</td>\n",
       "      <td>0.0427</td>\n",
       "    </tr>\n",
       "    <tr>\n",
       "      <th>NONLIVINGAREA_MEDI</th>\n",
       "      <td>0.0</td>\n",
       "      <td>0.0095</td>\n",
       "      <td>0.0502</td>\n",
       "      <td>0.0061</td>\n",
       "      <td>0.0279</td>\n",
       "    </tr>\n",
       "    <tr>\n",
       "      <th>FONDKAPREMONT_MODE</th>\n",
       "      <td>reg oper account</td>\n",
       "      <td>reg oper spec account</td>\n",
       "      <td>reg oper account</td>\n",
       "      <td>NaN</td>\n",
       "      <td>reg oper account</td>\n",
       "    </tr>\n",
       "    <tr>\n",
       "      <th>HOUSETYPE_MODE</th>\n",
       "      <td>block of flats</td>\n",
       "      <td>block of flats</td>\n",
       "      <td>block of flats</td>\n",
       "      <td>block of flats</td>\n",
       "      <td>block of flats</td>\n",
       "    </tr>\n",
       "    <tr>\n",
       "      <th>TOTALAREA_MODE</th>\n",
       "      <td>0.06</td>\n",
       "      <td>0.1281</td>\n",
       "      <td>0.1007</td>\n",
       "      <td>0.0805</td>\n",
       "      <td>0.2661</td>\n",
       "    </tr>\n",
       "    <tr>\n",
       "      <th>WALLSMATERIAL_MODE</th>\n",
       "      <td>Panel</td>\n",
       "      <td>Stone, brick</td>\n",
       "      <td>Stone, brick</td>\n",
       "      <td>Stone, brick</td>\n",
       "      <td>Panel</td>\n",
       "    </tr>\n",
       "    <tr>\n",
       "      <th>EMERGENCYSTATE_MODE</th>\n",
       "      <td>No</td>\n",
       "      <td>No</td>\n",
       "      <td>No</td>\n",
       "      <td>No</td>\n",
       "      <td>No</td>\n",
       "    </tr>\n",
       "    <tr>\n",
       "      <th>OBS_30_CNT_SOCIAL_CIRCLE</th>\n",
       "      <td>1.0</td>\n",
       "      <td>0.0</td>\n",
       "      <td>1.0</td>\n",
       "      <td>0.0</td>\n",
       "      <td>0.0</td>\n",
       "    </tr>\n",
       "    <tr>\n",
       "      <th>DEF_30_CNT_SOCIAL_CIRCLE</th>\n",
       "      <td>0.0</td>\n",
       "      <td>0.0</td>\n",
       "      <td>0.0</td>\n",
       "      <td>0.0</td>\n",
       "      <td>0.0</td>\n",
       "    </tr>\n",
       "    <tr>\n",
       "      <th>OBS_60_CNT_SOCIAL_CIRCLE</th>\n",
       "      <td>1.0</td>\n",
       "      <td>0.0</td>\n",
       "      <td>1.0</td>\n",
       "      <td>0.0</td>\n",
       "      <td>0.0</td>\n",
       "    </tr>\n",
       "    <tr>\n",
       "      <th>DEF_60_CNT_SOCIAL_CIRCLE</th>\n",
       "      <td>0.0</td>\n",
       "      <td>0.0</td>\n",
       "      <td>0.0</td>\n",
       "      <td>0.0</td>\n",
       "      <td>0.0</td>\n",
       "    </tr>\n",
       "    <tr>\n",
       "      <th>DAYS_LAST_PHONE_CHANGE</th>\n",
       "      <td>-367.0</td>\n",
       "      <td>-518.0</td>\n",
       "      <td>-690.0</td>\n",
       "      <td>-534.0</td>\n",
       "      <td>-1732.0</td>\n",
       "    </tr>\n",
       "    <tr>\n",
       "      <th>FLAG_DOCUMENT_2</th>\n",
       "      <td>0</td>\n",
       "      <td>0</td>\n",
       "      <td>0</td>\n",
       "      <td>0</td>\n",
       "      <td>0</td>\n",
       "    </tr>\n",
       "    <tr>\n",
       "      <th>FLAG_DOCUMENT_3</th>\n",
       "      <td>0</td>\n",
       "      <td>1</td>\n",
       "      <td>0</td>\n",
       "      <td>1</td>\n",
       "      <td>1</td>\n",
       "    </tr>\n",
       "    <tr>\n",
       "      <th>FLAG_DOCUMENT_4</th>\n",
       "      <td>0</td>\n",
       "      <td>0</td>\n",
       "      <td>0</td>\n",
       "      <td>0</td>\n",
       "      <td>0</td>\n",
       "    </tr>\n",
       "    <tr>\n",
       "      <th>FLAG_DOCUMENT_5</th>\n",
       "      <td>0</td>\n",
       "      <td>0</td>\n",
       "      <td>0</td>\n",
       "      <td>0</td>\n",
       "      <td>0</td>\n",
       "    </tr>\n",
       "    <tr>\n",
       "      <th>FLAG_DOCUMENT_6</th>\n",
       "      <td>1</td>\n",
       "      <td>0</td>\n",
       "      <td>0</td>\n",
       "      <td>0</td>\n",
       "      <td>0</td>\n",
       "    </tr>\n",
       "    <tr>\n",
       "      <th>FLAG_DOCUMENT_7</th>\n",
       "      <td>0</td>\n",
       "      <td>0</td>\n",
       "      <td>0</td>\n",
       "      <td>0</td>\n",
       "      <td>0</td>\n",
       "    </tr>\n",
       "    <tr>\n",
       "      <th>FLAG_DOCUMENT_8</th>\n",
       "      <td>0</td>\n",
       "      <td>0</td>\n",
       "      <td>0</td>\n",
       "      <td>0</td>\n",
       "      <td>0</td>\n",
       "    </tr>\n",
       "    <tr>\n",
       "      <th>FLAG_DOCUMENT_9</th>\n",
       "      <td>0</td>\n",
       "      <td>0</td>\n",
       "      <td>0</td>\n",
       "      <td>0</td>\n",
       "      <td>0</td>\n",
       "    </tr>\n",
       "    <tr>\n",
       "      <th>FLAG_DOCUMENT_10</th>\n",
       "      <td>0</td>\n",
       "      <td>0</td>\n",
       "      <td>0</td>\n",
       "      <td>0</td>\n",
       "      <td>0</td>\n",
       "    </tr>\n",
       "    <tr>\n",
       "      <th>FLAG_DOCUMENT_11</th>\n",
       "      <td>0</td>\n",
       "      <td>0</td>\n",
       "      <td>0</td>\n",
       "      <td>0</td>\n",
       "      <td>0</td>\n",
       "    </tr>\n",
       "    <tr>\n",
       "      <th>FLAG_DOCUMENT_12</th>\n",
       "      <td>0</td>\n",
       "      <td>0</td>\n",
       "      <td>0</td>\n",
       "      <td>0</td>\n",
       "      <td>0</td>\n",
       "    </tr>\n",
       "    <tr>\n",
       "      <th>FLAG_DOCUMENT_13</th>\n",
       "      <td>0</td>\n",
       "      <td>0</td>\n",
       "      <td>0</td>\n",
       "      <td>0</td>\n",
       "      <td>0</td>\n",
       "    </tr>\n",
       "    <tr>\n",
       "      <th>FLAG_DOCUMENT_14</th>\n",
       "      <td>0</td>\n",
       "      <td>0</td>\n",
       "      <td>0</td>\n",
       "      <td>0</td>\n",
       "      <td>0</td>\n",
       "    </tr>\n",
       "    <tr>\n",
       "      <th>FLAG_DOCUMENT_15</th>\n",
       "      <td>0</td>\n",
       "      <td>0</td>\n",
       "      <td>0</td>\n",
       "      <td>0</td>\n",
       "      <td>0</td>\n",
       "    </tr>\n",
       "    <tr>\n",
       "      <th>FLAG_DOCUMENT_16</th>\n",
       "      <td>0</td>\n",
       "      <td>0</td>\n",
       "      <td>0</td>\n",
       "      <td>0</td>\n",
       "      <td>0</td>\n",
       "    </tr>\n",
       "    <tr>\n",
       "      <th>FLAG_DOCUMENT_17</th>\n",
       "      <td>0</td>\n",
       "      <td>0</td>\n",
       "      <td>0</td>\n",
       "      <td>0</td>\n",
       "      <td>0</td>\n",
       "    </tr>\n",
       "    <tr>\n",
       "      <th>FLAG_DOCUMENT_18</th>\n",
       "      <td>0</td>\n",
       "      <td>0</td>\n",
       "      <td>0</td>\n",
       "      <td>0</td>\n",
       "      <td>0</td>\n",
       "    </tr>\n",
       "    <tr>\n",
       "      <th>FLAG_DOCUMENT_19</th>\n",
       "      <td>0</td>\n",
       "      <td>0</td>\n",
       "      <td>0</td>\n",
       "      <td>0</td>\n",
       "      <td>0</td>\n",
       "    </tr>\n",
       "    <tr>\n",
       "      <th>FLAG_DOCUMENT_20</th>\n",
       "      <td>0</td>\n",
       "      <td>0</td>\n",
       "      <td>0</td>\n",
       "      <td>0</td>\n",
       "      <td>0</td>\n",
       "    </tr>\n",
       "    <tr>\n",
       "      <th>FLAG_DOCUMENT_21</th>\n",
       "      <td>0</td>\n",
       "      <td>0</td>\n",
       "      <td>0</td>\n",
       "      <td>0</td>\n",
       "      <td>0</td>\n",
       "    </tr>\n",
       "    <tr>\n",
       "      <th>AMT_REQ_CREDIT_BUREAU_HOUR</th>\n",
       "      <td>NaN</td>\n",
       "      <td>0.0</td>\n",
       "      <td>0.0</td>\n",
       "      <td>0.0</td>\n",
       "      <td>0.0</td>\n",
       "    </tr>\n",
       "    <tr>\n",
       "      <th>AMT_REQ_CREDIT_BUREAU_DAY</th>\n",
       "      <td>NaN</td>\n",
       "      <td>0.0</td>\n",
       "      <td>0.0</td>\n",
       "      <td>0.0</td>\n",
       "      <td>0.0</td>\n",
       "    </tr>\n",
       "    <tr>\n",
       "      <th>AMT_REQ_CREDIT_BUREAU_WEEK</th>\n",
       "      <td>NaN</td>\n",
       "      <td>0.0</td>\n",
       "      <td>0.0</td>\n",
       "      <td>0.0</td>\n",
       "      <td>0.0</td>\n",
       "    </tr>\n",
       "    <tr>\n",
       "      <th>AMT_REQ_CREDIT_BUREAU_MON</th>\n",
       "      <td>NaN</td>\n",
       "      <td>0.0</td>\n",
       "      <td>0.0</td>\n",
       "      <td>0.0</td>\n",
       "      <td>0.0</td>\n",
       "    </tr>\n",
       "    <tr>\n",
       "      <th>AMT_REQ_CREDIT_BUREAU_QRT</th>\n",
       "      <td>NaN</td>\n",
       "      <td>0.0</td>\n",
       "      <td>0.0</td>\n",
       "      <td>1.0</td>\n",
       "      <td>0.0</td>\n",
       "    </tr>\n",
       "    <tr>\n",
       "      <th>AMT_REQ_CREDIT_BUREAU_YEAR</th>\n",
       "      <td>NaN</td>\n",
       "      <td>0.0</td>\n",
       "      <td>0.0</td>\n",
       "      <td>5.0</td>\n",
       "      <td>1.0</td>\n",
       "    </tr>\n",
       "  </tbody>\n",
       "</table>\n",
       "</div>"
      ],
      "text/plain": [
       "                                              0                      1  \\\n",
       "SK_ID_CURR                               428247                 140966   \n",
       "TARGET                                        0                      0   \n",
       "NAME_CONTRACT_TYPE                   Cash loans             Cash loans   \n",
       "CODE_GENDER                                   F                      M   \n",
       "FLAG_OWN_CAR                                  N                      Y   \n",
       "FLAG_OWN_REALTY                               N                      Y   \n",
       "CNT_CHILDREN                                  0                      1   \n",
       "AMT_INCOME_TOTAL                       157500.0                90000.0   \n",
       "AMT_CREDIT                             634500.0              1223010.0   \n",
       "AMT_ANNUITY                             30523.5                51948.0   \n",
       "AMT_GOODS_PRICE                        634500.0              1125000.0   \n",
       "NAME_TYPE_SUITE                   Unaccompanied          Unaccompanied   \n",
       "NAME_INCOME_TYPE                      Pensioner                Working   \n",
       "NAME_EDUCATION_TYPE            Higher education       Higher education   \n",
       "NAME_FAMILY_STATUS                        Widow                Married   \n",
       "NAME_HOUSING_TYPE             House / apartment      House / apartment   \n",
       "REGION_POPULATION_RELATIVE             0.020713               0.006305   \n",
       "DAYS_BIRTH                               -18445                 -13988   \n",
       "DAYS_EMPLOYED                            365243                   -875   \n",
       "DAYS_REGISTRATION                       -3234.0                 -520.0   \n",
       "DAYS_ID_PUBLISH                            -572                  -4536   \n",
       "OWN_CAR_AGE                                 NaN                   11.0   \n",
       "FLAG_MOBIL                                    1                      1   \n",
       "FLAG_EMP_PHONE                                0                      1   \n",
       "FLAG_WORK_PHONE                               0                      0   \n",
       "FLAG_CONT_MOBILE                              1                      1   \n",
       "FLAG_PHONE                                    1                      0   \n",
       "FLAG_EMAIL                                    0                      0   \n",
       "OCCUPATION_TYPE                             NaN             Core staff   \n",
       "CNT_FAM_MEMBERS                             1.0                    3.0   \n",
       "REGION_RATING_CLIENT                          3                      3   \n",
       "REGION_RATING_CLIENT_W_CITY                   1                      3   \n",
       "WEEKDAY_APPR_PROCESS_START              TUESDAY              WEDNESDAY   \n",
       "HOUR_APPR_PROCESS_START                       5                      6   \n",
       "REG_REGION_NOT_LIVE_REGION                    0                      0   \n",
       "REG_REGION_NOT_WORK_REGION                    0                      0   \n",
       "LIVE_REGION_NOT_WORK_REGION                   0                      0   \n",
       "REG_CITY_NOT_LIVE_CITY                        0                      0   \n",
       "REG_CITY_NOT_WORK_CITY                        0                      0   \n",
       "LIVE_CITY_NOT_WORK_CITY                       0                      0   \n",
       "ORGANIZATION_TYPE                           XNA                 Police   \n",
       "EXT_SOURCE_1                                NaN               0.432404   \n",
       "EXT_SOURCE_2                           0.171955               0.618847   \n",
       "EXT_SOURCE_3                                NaN               0.429424   \n",
       "APARTMENTS_AVG                           0.0825                 0.1381   \n",
       "BASEMENTAREA_AVG                         0.0809                    NaN   \n",
       "YEARS_BEGINEXPLUATATION_AVG              0.9757                 0.9901   \n",
       "YEARS_BUILD_AVG                          0.6668                  0.864   \n",
       "COMMONAREA_AVG                           0.0078                 0.0182   \n",
       "ELEVATORS_AVG                               0.0                    0.0   \n",
       "ENTRANCES_AVG                            0.1379                 0.3103   \n",
       "FLOORSMAX_AVG                            0.1667                 0.2083   \n",
       "FLOORSMIN_AVG                               0.0                 0.2083   \n",
       "LANDAREA_AVG                             0.0464                    NaN   \n",
       "LIVINGAPARTMENTS_AVG                     0.0672                    NaN   \n",
       "LIVINGAREA_AVG                           0.0708                 0.1477   \n",
       "NONLIVINGAPARTMENTS_AVG                     0.0                    NaN   \n",
       "NONLIVINGAREA_AVG                           0.0                 0.0093   \n",
       "APARTMENTS_MODE                           0.084                 0.1408   \n",
       "BASEMENTAREA_MODE                         0.084                    NaN   \n",
       "YEARS_BEGINEXPLUATATION_MODE             0.9757                 0.9901   \n",
       "YEARS_BUILD_MODE                         0.6798                 0.8693   \n",
       "COMMONAREA_MODE                          0.0078                 0.0183   \n",
       "ELEVATORS_MODE                              0.0                    0.0   \n",
       "ENTRANCES_MODE                           0.1379                 0.3103   \n",
       "FLOORSMAX_MODE                           0.1667                 0.2083   \n",
       "FLOORSMIN_MODE                              0.0                 0.2083   \n",
       "LANDAREA_MODE                            0.0475                    NaN   \n",
       "LIVINGAPARTMENTS_MODE                    0.0735                    NaN   \n",
       "LIVINGAREA_MODE                          0.0738                 0.1539   \n",
       "NONLIVINGAPARTMENTS_MODE                    0.0                    NaN   \n",
       "NONLIVINGAREA_MODE                          0.0                 0.0098   \n",
       "APARTMENTS_MEDI                          0.0833                 0.1395   \n",
       "BASEMENTAREA_MEDI                        0.0809                    NaN   \n",
       "YEARS_BEGINEXPLUATATION_MEDI             0.9757                 0.9901   \n",
       "YEARS_BUILD_MEDI                         0.6713                 0.8658   \n",
       "COMMONAREA_MEDI                          0.0078                 0.0183   \n",
       "ELEVATORS_MEDI                              0.0                    0.0   \n",
       "ENTRANCES_MEDI                           0.1379                 0.3103   \n",
       "FLOORSMAX_MEDI                           0.1667                 0.2083   \n",
       "FLOORSMIN_MEDI                              0.0                 0.2083   \n",
       "LANDAREA_MEDI                            0.0472                    NaN   \n",
       "LIVINGAPARTMENTS_MEDI                    0.0684                    NaN   \n",
       "LIVINGAREA_MEDI                          0.0721                 0.1504   \n",
       "NONLIVINGAPARTMENTS_MEDI                    0.0                    NaN   \n",
       "NONLIVINGAREA_MEDI                          0.0                 0.0095   \n",
       "FONDKAPREMONT_MODE             reg oper account  reg oper spec account   \n",
       "HOUSETYPE_MODE                   block of flats         block of flats   \n",
       "TOTALAREA_MODE                             0.06                 0.1281   \n",
       "WALLSMATERIAL_MODE                        Panel           Stone, brick   \n",
       "EMERGENCYSTATE_MODE                          No                     No   \n",
       "OBS_30_CNT_SOCIAL_CIRCLE                    1.0                    0.0   \n",
       "DEF_30_CNT_SOCIAL_CIRCLE                    0.0                    0.0   \n",
       "OBS_60_CNT_SOCIAL_CIRCLE                    1.0                    0.0   \n",
       "DEF_60_CNT_SOCIAL_CIRCLE                    0.0                    0.0   \n",
       "DAYS_LAST_PHONE_CHANGE                   -367.0                 -518.0   \n",
       "FLAG_DOCUMENT_2                               0                      0   \n",
       "FLAG_DOCUMENT_3                               0                      1   \n",
       "FLAG_DOCUMENT_4                               0                      0   \n",
       "FLAG_DOCUMENT_5                               0                      0   \n",
       "FLAG_DOCUMENT_6                               1                      0   \n",
       "FLAG_DOCUMENT_7                               0                      0   \n",
       "FLAG_DOCUMENT_8                               0                      0   \n",
       "FLAG_DOCUMENT_9                               0                      0   \n",
       "FLAG_DOCUMENT_10                              0                      0   \n",
       "FLAG_DOCUMENT_11                              0                      0   \n",
       "FLAG_DOCUMENT_12                              0                      0   \n",
       "FLAG_DOCUMENT_13                              0                      0   \n",
       "FLAG_DOCUMENT_14                              0                      0   \n",
       "FLAG_DOCUMENT_15                              0                      0   \n",
       "FLAG_DOCUMENT_16                              0                      0   \n",
       "FLAG_DOCUMENT_17                              0                      0   \n",
       "FLAG_DOCUMENT_18                              0                      0   \n",
       "FLAG_DOCUMENT_19                              0                      0   \n",
       "FLAG_DOCUMENT_20                              0                      0   \n",
       "FLAG_DOCUMENT_21                              0                      0   \n",
       "AMT_REQ_CREDIT_BUREAU_HOUR                  NaN                    0.0   \n",
       "AMT_REQ_CREDIT_BUREAU_DAY                   NaN                    0.0   \n",
       "AMT_REQ_CREDIT_BUREAU_WEEK                  NaN                    0.0   \n",
       "AMT_REQ_CREDIT_BUREAU_MON                   NaN                    0.0   \n",
       "AMT_REQ_CREDIT_BUREAU_QRT                   NaN                    0.0   \n",
       "AMT_REQ_CREDIT_BUREAU_YEAR                  NaN                    0.0   \n",
       "\n",
       "                                                 2  \\\n",
       "SK_ID_CURR                                  407283   \n",
       "TARGET                                           0   \n",
       "NAME_CONTRACT_TYPE                 Revolving loans   \n",
       "CODE_GENDER                                      F   \n",
       "FLAG_OWN_CAR                                     N   \n",
       "FLAG_OWN_REALTY                                  Y   \n",
       "CNT_CHILDREN                                     0   \n",
       "AMT_INCOME_TOTAL                          405000.0   \n",
       "AMT_CREDIT                                540000.0   \n",
       "AMT_ANNUITY                                27000.0   \n",
       "AMT_GOODS_PRICE                           540000.0   \n",
       "NAME_TYPE_SUITE                      Unaccompanied   \n",
       "NAME_INCOME_TYPE              Commercial associate   \n",
       "NAME_EDUCATION_TYPE               Higher education   \n",
       "NAME_FAMILY_STATUS            Single / not married   \n",
       "NAME_HOUSING_TYPE                House / apartment   \n",
       "REGION_POPULATION_RELATIVE                0.032561   \n",
       "DAYS_BIRTH                                  -11319   \n",
       "DAYS_EMPLOYED                                -2117   \n",
       "DAYS_REGISTRATION                          -5410.0   \n",
       "DAYS_ID_PUBLISH                              -4003   \n",
       "OWN_CAR_AGE                                    NaN   \n",
       "FLAG_MOBIL                                       1   \n",
       "FLAG_EMP_PHONE                                   1   \n",
       "FLAG_WORK_PHONE                                  0   \n",
       "FLAG_CONT_MOBILE                                 1   \n",
       "FLAG_PHONE                                       0   \n",
       "FLAG_EMAIL                                       0   \n",
       "OCCUPATION_TYPE                        Accountants   \n",
       "CNT_FAM_MEMBERS                                1.0   \n",
       "REGION_RATING_CLIENT                             1   \n",
       "REGION_RATING_CLIENT_W_CITY                      1   \n",
       "WEEKDAY_APPR_PROCESS_START                  MONDAY   \n",
       "HOUR_APPR_PROCESS_START                         15   \n",
       "REG_REGION_NOT_LIVE_REGION                       0   \n",
       "REG_REGION_NOT_WORK_REGION                       0   \n",
       "LIVE_REGION_NOT_WORK_REGION                      0   \n",
       "REG_CITY_NOT_LIVE_CITY                           0   \n",
       "REG_CITY_NOT_WORK_CITY                           0   \n",
       "LIVE_CITY_NOT_WORK_CITY                          0   \n",
       "ORGANIZATION_TYPE                       University   \n",
       "EXT_SOURCE_1                              0.421398   \n",
       "EXT_SOURCE_2                              0.704739   \n",
       "EXT_SOURCE_3                              0.499272   \n",
       "APARTMENTS_AVG                                 NaN   \n",
       "BASEMENTAREA_AVG                             0.099   \n",
       "YEARS_BEGINEXPLUATATION_AVG                 0.9608   \n",
       "YEARS_BUILD_AVG                             0.4628   \n",
       "COMMONAREA_AVG                               0.026   \n",
       "ELEVATORS_AVG                                 0.28   \n",
       "ENTRANCES_AVG                               0.2414   \n",
       "FLOORSMAX_AVG                               0.1667   \n",
       "FLOORSMIN_AVG                               0.2083   \n",
       "LANDAREA_AVG                                   0.0   \n",
       "LIVINGAPARTMENTS_AVG                           NaN   \n",
       "LIVINGAREA_AVG                              0.0964   \n",
       "NONLIVINGAPARTMENTS_AVG                        NaN   \n",
       "NONLIVINGAREA_AVG                           0.0492   \n",
       "APARTMENTS_MODE                                NaN   \n",
       "BASEMENTAREA_MODE                           0.1027   \n",
       "YEARS_BEGINEXPLUATATION_MODE                0.9608   \n",
       "YEARS_BUILD_MODE                            0.4838   \n",
       "COMMONAREA_MODE                             0.0263   \n",
       "ELEVATORS_MODE                               0.282   \n",
       "ENTRANCES_MODE                              0.2414   \n",
       "FLOORSMAX_MODE                              0.1667   \n",
       "FLOORSMIN_MODE                              0.2083   \n",
       "LANDAREA_MODE                                  0.0   \n",
       "LIVINGAPARTMENTS_MODE                          NaN   \n",
       "LIVINGAREA_MODE                             0.1004   \n",
       "NONLIVINGAPARTMENTS_MODE                       NaN   \n",
       "NONLIVINGAREA_MODE                          0.0521   \n",
       "APARTMENTS_MEDI                                NaN   \n",
       "BASEMENTAREA_MEDI                            0.099   \n",
       "YEARS_BEGINEXPLUATATION_MEDI                0.9608   \n",
       "YEARS_BUILD_MEDI                              0.47   \n",
       "COMMONAREA_MEDI                             0.0262   \n",
       "ELEVATORS_MEDI                                0.28   \n",
       "ENTRANCES_MEDI                              0.2414   \n",
       "FLOORSMAX_MEDI                              0.1667   \n",
       "FLOORSMIN_MEDI                              0.2083   \n",
       "LANDAREA_MEDI                                  0.0   \n",
       "LIVINGAPARTMENTS_MEDI                          NaN   \n",
       "LIVINGAREA_MEDI                             0.0981   \n",
       "NONLIVINGAPARTMENTS_MEDI                       NaN   \n",
       "NONLIVINGAREA_MEDI                          0.0502   \n",
       "FONDKAPREMONT_MODE                reg oper account   \n",
       "HOUSETYPE_MODE                      block of flats   \n",
       "TOTALAREA_MODE                              0.1007   \n",
       "WALLSMATERIAL_MODE                    Stone, brick   \n",
       "EMERGENCYSTATE_MODE                             No   \n",
       "OBS_30_CNT_SOCIAL_CIRCLE                       1.0   \n",
       "DEF_30_CNT_SOCIAL_CIRCLE                       0.0   \n",
       "OBS_60_CNT_SOCIAL_CIRCLE                       1.0   \n",
       "DEF_60_CNT_SOCIAL_CIRCLE                       0.0   \n",
       "DAYS_LAST_PHONE_CHANGE                      -690.0   \n",
       "FLAG_DOCUMENT_2                                  0   \n",
       "FLAG_DOCUMENT_3                                  0   \n",
       "FLAG_DOCUMENT_4                                  0   \n",
       "FLAG_DOCUMENT_5                                  0   \n",
       "FLAG_DOCUMENT_6                                  0   \n",
       "FLAG_DOCUMENT_7                                  0   \n",
       "FLAG_DOCUMENT_8                                  0   \n",
       "FLAG_DOCUMENT_9                                  0   \n",
       "FLAG_DOCUMENT_10                                 0   \n",
       "FLAG_DOCUMENT_11                                 0   \n",
       "FLAG_DOCUMENT_12                                 0   \n",
       "FLAG_DOCUMENT_13                                 0   \n",
       "FLAG_DOCUMENT_14                                 0   \n",
       "FLAG_DOCUMENT_15                                 0   \n",
       "FLAG_DOCUMENT_16                                 0   \n",
       "FLAG_DOCUMENT_17                                 0   \n",
       "FLAG_DOCUMENT_18                                 0   \n",
       "FLAG_DOCUMENT_19                                 0   \n",
       "FLAG_DOCUMENT_20                                 0   \n",
       "FLAG_DOCUMENT_21                                 0   \n",
       "AMT_REQ_CREDIT_BUREAU_HOUR                     0.0   \n",
       "AMT_REQ_CREDIT_BUREAU_DAY                      0.0   \n",
       "AMT_REQ_CREDIT_BUREAU_WEEK                     0.0   \n",
       "AMT_REQ_CREDIT_BUREAU_MON                      0.0   \n",
       "AMT_REQ_CREDIT_BUREAU_QRT                      0.0   \n",
       "AMT_REQ_CREDIT_BUREAU_YEAR                     0.0   \n",
       "\n",
       "                                                          3  \\\n",
       "SK_ID_CURR                                           434300   \n",
       "TARGET                                                    0   \n",
       "NAME_CONTRACT_TYPE                               Cash loans   \n",
       "CODE_GENDER                                               F   \n",
       "FLAG_OWN_CAR                                              N   \n",
       "FLAG_OWN_REALTY                                           N   \n",
       "CNT_CHILDREN                                              0   \n",
       "AMT_INCOME_TOTAL                                    90000.0   \n",
       "AMT_CREDIT                                         439740.0   \n",
       "AMT_ANNUITY                                         18630.0   \n",
       "AMT_GOODS_PRICE                                    315000.0   \n",
       "NAME_TYPE_SUITE                               Unaccompanied   \n",
       "NAME_INCOME_TYPE                                    Working   \n",
       "NAME_EDUCATION_TYPE           Secondary / secondary special   \n",
       "NAME_FAMILY_STATUS                                  Married   \n",
       "NAME_HOUSING_TYPE                         House / apartment   \n",
       "REGION_POPULATION_RELATIVE                         0.010966   \n",
       "DAYS_BIRTH                                           -18640   \n",
       "DAYS_EMPLOYED                                          -102   \n",
       "DAYS_REGISTRATION                                   -9839.0   \n",
       "DAYS_ID_PUBLISH                                       -2111   \n",
       "OWN_CAR_AGE                                             NaN   \n",
       "FLAG_MOBIL                                                1   \n",
       "FLAG_EMP_PHONE                                            1   \n",
       "FLAG_WORK_PHONE                                           0   \n",
       "FLAG_CONT_MOBILE                                          1   \n",
       "FLAG_PHONE                                                1   \n",
       "FLAG_EMAIL                                                0   \n",
       "OCCUPATION_TYPE                              Cleaning staff   \n",
       "CNT_FAM_MEMBERS                                         2.0   \n",
       "REGION_RATING_CLIENT                                      2   \n",
       "REGION_RATING_CLIENT_W_CITY                               2   \n",
       "WEEKDAY_APPR_PROCESS_START                           MONDAY   \n",
       "HOUR_APPR_PROCESS_START                                  17   \n",
       "REG_REGION_NOT_LIVE_REGION                                0   \n",
       "REG_REGION_NOT_WORK_REGION                                0   \n",
       "LIVE_REGION_NOT_WORK_REGION                               0   \n",
       "REG_CITY_NOT_LIVE_CITY                                    0   \n",
       "REG_CITY_NOT_WORK_CITY                                    0   \n",
       "LIVE_CITY_NOT_WORK_CITY                                   0   \n",
       "ORGANIZATION_TYPE                    Business Entity Type 3   \n",
       "EXT_SOURCE_1                                            NaN   \n",
       "EXT_SOURCE_2                                       0.648041   \n",
       "EXT_SOURCE_3                                       0.736623   \n",
       "APARTMENTS_AVG                                       0.1381   \n",
       "BASEMENTAREA_AVG                                        NaN   \n",
       "YEARS_BEGINEXPLUATATION_AVG                          0.9861   \n",
       "YEARS_BUILD_AVG                                         NaN   \n",
       "COMMONAREA_AVG                                          NaN   \n",
       "ELEVATORS_AVG                                          0.04   \n",
       "ENTRANCES_AVG                                        0.0345   \n",
       "FLOORSMAX_AVG                                        0.3333   \n",
       "FLOORSMIN_AVG                                           NaN   \n",
       "LANDAREA_AVG                                         0.0663   \n",
       "LIVINGAPARTMENTS_AVG                                    NaN   \n",
       "LIVINGAREA_AVG                                       0.0914   \n",
       "NONLIVINGAPARTMENTS_AVG                                 NaN   \n",
       "NONLIVINGAREA_AVG                                     0.006   \n",
       "APARTMENTS_MODE                                      0.1408   \n",
       "BASEMENTAREA_MODE                                       NaN   \n",
       "YEARS_BEGINEXPLUATATION_MODE                         0.9861   \n",
       "YEARS_BUILD_MODE                                        NaN   \n",
       "COMMONAREA_MODE                                         NaN   \n",
       "ELEVATORS_MODE                                       0.0403   \n",
       "ENTRANCES_MODE                                       0.0345   \n",
       "FLOORSMAX_MODE                                       0.3333   \n",
       "FLOORSMIN_MODE                                          NaN   \n",
       "LANDAREA_MODE                                        0.0678   \n",
       "LIVINGAPARTMENTS_MODE                                   NaN   \n",
       "LIVINGAREA_MODE                                      0.0952   \n",
       "NONLIVINGAPARTMENTS_MODE                                NaN   \n",
       "NONLIVINGAREA_MODE                                   0.0063   \n",
       "APARTMENTS_MEDI                                      0.1395   \n",
       "BASEMENTAREA_MEDI                                       NaN   \n",
       "YEARS_BEGINEXPLUATATION_MEDI                         0.9861   \n",
       "YEARS_BUILD_MEDI                                        NaN   \n",
       "COMMONAREA_MEDI                                         NaN   \n",
       "ELEVATORS_MEDI                                         0.04   \n",
       "ENTRANCES_MEDI                                       0.0345   \n",
       "FLOORSMAX_MEDI                                       0.3333   \n",
       "FLOORSMIN_MEDI                                          NaN   \n",
       "LANDAREA_MEDI                                        0.0675   \n",
       "LIVINGAPARTMENTS_MEDI                                   NaN   \n",
       "LIVINGAREA_MEDI                                       0.093   \n",
       "NONLIVINGAPARTMENTS_MEDI                                NaN   \n",
       "NONLIVINGAREA_MEDI                                   0.0061   \n",
       "FONDKAPREMONT_MODE                                      NaN   \n",
       "HOUSETYPE_MODE                               block of flats   \n",
       "TOTALAREA_MODE                                       0.0805   \n",
       "WALLSMATERIAL_MODE                             Stone, brick   \n",
       "EMERGENCYSTATE_MODE                                      No   \n",
       "OBS_30_CNT_SOCIAL_CIRCLE                                0.0   \n",
       "DEF_30_CNT_SOCIAL_CIRCLE                                0.0   \n",
       "OBS_60_CNT_SOCIAL_CIRCLE                                0.0   \n",
       "DEF_60_CNT_SOCIAL_CIRCLE                                0.0   \n",
       "DAYS_LAST_PHONE_CHANGE                               -534.0   \n",
       "FLAG_DOCUMENT_2                                           0   \n",
       "FLAG_DOCUMENT_3                                           1   \n",
       "FLAG_DOCUMENT_4                                           0   \n",
       "FLAG_DOCUMENT_5                                           0   \n",
       "FLAG_DOCUMENT_6                                           0   \n",
       "FLAG_DOCUMENT_7                                           0   \n",
       "FLAG_DOCUMENT_8                                           0   \n",
       "FLAG_DOCUMENT_9                                           0   \n",
       "FLAG_DOCUMENT_10                                          0   \n",
       "FLAG_DOCUMENT_11                                          0   \n",
       "FLAG_DOCUMENT_12                                          0   \n",
       "FLAG_DOCUMENT_13                                          0   \n",
       "FLAG_DOCUMENT_14                                          0   \n",
       "FLAG_DOCUMENT_15                                          0   \n",
       "FLAG_DOCUMENT_16                                          0   \n",
       "FLAG_DOCUMENT_17                                          0   \n",
       "FLAG_DOCUMENT_18                                          0   \n",
       "FLAG_DOCUMENT_19                                          0   \n",
       "FLAG_DOCUMENT_20                                          0   \n",
       "FLAG_DOCUMENT_21                                          0   \n",
       "AMT_REQ_CREDIT_BUREAU_HOUR                              0.0   \n",
       "AMT_REQ_CREDIT_BUREAU_DAY                               0.0   \n",
       "AMT_REQ_CREDIT_BUREAU_WEEK                              0.0   \n",
       "AMT_REQ_CREDIT_BUREAU_MON                               0.0   \n",
       "AMT_REQ_CREDIT_BUREAU_QRT                               1.0   \n",
       "AMT_REQ_CREDIT_BUREAU_YEAR                              5.0   \n",
       "\n",
       "                                                          4  \n",
       "SK_ID_CURR                                           446788  \n",
       "TARGET                                                    0  \n",
       "NAME_CONTRACT_TYPE                               Cash loans  \n",
       "CODE_GENDER                                               F  \n",
       "FLAG_OWN_CAR                                              N  \n",
       "FLAG_OWN_REALTY                                           N  \n",
       "CNT_CHILDREN                                              0  \n",
       "AMT_INCOME_TOTAL                                    67500.0  \n",
       "AMT_CREDIT                                         323388.0  \n",
       "AMT_ANNUITY                                         18054.0  \n",
       "AMT_GOODS_PRICE                                    292500.0  \n",
       "NAME_TYPE_SUITE                               Unaccompanied  \n",
       "NAME_INCOME_TYPE                                    Working  \n",
       "NAME_EDUCATION_TYPE           Secondary / secondary special  \n",
       "NAME_FAMILY_STATUS                                  Married  \n",
       "NAME_HOUSING_TYPE                         House / apartment  \n",
       "REGION_POPULATION_RELATIVE                         0.010643  \n",
       "DAYS_BIRTH                                           -19210  \n",
       "DAYS_EMPLOYED                                         -4195  \n",
       "DAYS_REGISTRATION                                     -90.0  \n",
       "DAYS_ID_PUBLISH                                       -2752  \n",
       "OWN_CAR_AGE                                             NaN  \n",
       "FLAG_MOBIL                                                1  \n",
       "FLAG_EMP_PHONE                                            1  \n",
       "FLAG_WORK_PHONE                                           1  \n",
       "FLAG_CONT_MOBILE                                          1  \n",
       "FLAG_PHONE                                                0  \n",
       "FLAG_EMAIL                                                0  \n",
       "OCCUPATION_TYPE                                    Managers  \n",
       "CNT_FAM_MEMBERS                                         2.0  \n",
       "REGION_RATING_CLIENT                                      2  \n",
       "REGION_RATING_CLIENT_W_CITY                               2  \n",
       "WEEKDAY_APPR_PROCESS_START                          TUESDAY  \n",
       "HOUR_APPR_PROCESS_START                                  10  \n",
       "REG_REGION_NOT_LIVE_REGION                                0  \n",
       "REG_REGION_NOT_WORK_REGION                                1  \n",
       "LIVE_REGION_NOT_WORK_REGION                               1  \n",
       "REG_CITY_NOT_LIVE_CITY                                    1  \n",
       "REG_CITY_NOT_WORK_CITY                                    1  \n",
       "LIVE_CITY_NOT_WORK_CITY                                   1  \n",
       "ORGANIZATION_TYPE                                   Housing  \n",
       "EXT_SOURCE_1                                            NaN  \n",
       "EXT_SOURCE_2                                       0.645734  \n",
       "EXT_SOURCE_3                                       0.581484  \n",
       "APARTMENTS_AVG                                       0.2062  \n",
       "BASEMENTAREA_AVG                                     0.0773  \n",
       "YEARS_BEGINEXPLUATATION_AVG                          0.9985  \n",
       "YEARS_BUILD_AVG                                      0.9796  \n",
       "COMMONAREA_AVG                                       0.0243  \n",
       "ELEVATORS_AVG                                          0.28  \n",
       "ENTRANCES_AVG                                        0.2414  \n",
       "FLOORSMAX_AVG                                        0.3333  \n",
       "FLOORSMIN_AVG                                        0.0417  \n",
       "LANDAREA_AVG                                         0.1893  \n",
       "LIVINGAPARTMENTS_AVG                                 0.1589  \n",
       "LIVINGAREA_AVG                                       0.2549  \n",
       "NONLIVINGAPARTMENTS_AVG                              0.0425  \n",
       "NONLIVINGAREA_AVG                                    0.0273  \n",
       "APARTMENTS_MODE                                      0.2101  \n",
       "BASEMENTAREA_MODE                                    0.0803  \n",
       "YEARS_BEGINEXPLUATATION_MODE                         0.9985  \n",
       "YEARS_BUILD_MODE                                     0.9804  \n",
       "COMMONAREA_MODE                                      0.0246  \n",
       "ELEVATORS_MODE                                        0.282  \n",
       "ENTRANCES_MODE                                       0.2414  \n",
       "FLOORSMAX_MODE                                       0.3333  \n",
       "FLOORSMIN_MODE                                       0.0417  \n",
       "LANDAREA_MODE                                        0.1936  \n",
       "LIVINGAPARTMENTS_MODE                                0.1736  \n",
       "LIVINGAREA_MODE                                      0.2656  \n",
       "NONLIVINGAPARTMENTS_MODE                             0.0428  \n",
       "NONLIVINGAREA_MODE                                   0.0289  \n",
       "APARTMENTS_MEDI                                      0.2082  \n",
       "BASEMENTAREA_MEDI                                    0.0773  \n",
       "YEARS_BEGINEXPLUATATION_MEDI                         0.9985  \n",
       "YEARS_BUILD_MEDI                                     0.9799  \n",
       "COMMONAREA_MEDI                                      0.0245  \n",
       "ELEVATORS_MEDI                                         0.28  \n",
       "ENTRANCES_MEDI                                       0.2414  \n",
       "FLOORSMAX_MEDI                                       0.3333  \n",
       "FLOORSMIN_MEDI                                       0.0417  \n",
       "LANDAREA_MEDI                                        0.1926  \n",
       "LIVINGAPARTMENTS_MEDI                                0.1616  \n",
       "LIVINGAREA_MEDI                                      0.2595  \n",
       "NONLIVINGAPARTMENTS_MEDI                             0.0427  \n",
       "NONLIVINGAREA_MEDI                                   0.0279  \n",
       "FONDKAPREMONT_MODE                         reg oper account  \n",
       "HOUSETYPE_MODE                               block of flats  \n",
       "TOTALAREA_MODE                                       0.2661  \n",
       "WALLSMATERIAL_MODE                                    Panel  \n",
       "EMERGENCYSTATE_MODE                                      No  \n",
       "OBS_30_CNT_SOCIAL_CIRCLE                                0.0  \n",
       "DEF_30_CNT_SOCIAL_CIRCLE                                0.0  \n",
       "OBS_60_CNT_SOCIAL_CIRCLE                                0.0  \n",
       "DEF_60_CNT_SOCIAL_CIRCLE                                0.0  \n",
       "DAYS_LAST_PHONE_CHANGE                              -1732.0  \n",
       "FLAG_DOCUMENT_2                                           0  \n",
       "FLAG_DOCUMENT_3                                           1  \n",
       "FLAG_DOCUMENT_4                                           0  \n",
       "FLAG_DOCUMENT_5                                           0  \n",
       "FLAG_DOCUMENT_6                                           0  \n",
       "FLAG_DOCUMENT_7                                           0  \n",
       "FLAG_DOCUMENT_8                                           0  \n",
       "FLAG_DOCUMENT_9                                           0  \n",
       "FLAG_DOCUMENT_10                                          0  \n",
       "FLAG_DOCUMENT_11                                          0  \n",
       "FLAG_DOCUMENT_12                                          0  \n",
       "FLAG_DOCUMENT_13                                          0  \n",
       "FLAG_DOCUMENT_14                                          0  \n",
       "FLAG_DOCUMENT_15                                          0  \n",
       "FLAG_DOCUMENT_16                                          0  \n",
       "FLAG_DOCUMENT_17                                          0  \n",
       "FLAG_DOCUMENT_18                                          0  \n",
       "FLAG_DOCUMENT_19                                          0  \n",
       "FLAG_DOCUMENT_20                                          0  \n",
       "FLAG_DOCUMENT_21                                          0  \n",
       "AMT_REQ_CREDIT_BUREAU_HOUR                              0.0  \n",
       "AMT_REQ_CREDIT_BUREAU_DAY                               0.0  \n",
       "AMT_REQ_CREDIT_BUREAU_WEEK                              0.0  \n",
       "AMT_REQ_CREDIT_BUREAU_MON                               0.0  \n",
       "AMT_REQ_CREDIT_BUREAU_QRT                               0.0  \n",
       "AMT_REQ_CREDIT_BUREAU_YEAR                              1.0  "
      ]
     },
     "execution_count": 6,
     "metadata": {},
     "output_type": "execute_result"
    }
   ],
   "source": [
    "### TODO Complete in this cell: show first 5 records in a transposed table\n",
    "pd.set_option('display.max_rows', None)\n",
    "df_transposed = df.T.iloc[:,:5]\n",
    "df_transposed"
   ]
  },
  {
   "attachments": {},
   "cell_type": "markdown",
   "id": "59da8f46-e503-4b67-8e73-ac61c394824c",
   "metadata": {
    "id": "59da8f46-e503-4b67-8e73-ac61c394824c"
   },
   "source": [
    "1.5. Show the distribution of the target variable values: print the total value count and the percentage of each value, plot this relationship."
   ]
  },
  {
   "cell_type": "code",
   "execution_count": 7,
   "id": "8855d370-c825-415b-9dd0-9dbdd576fada",
   "metadata": {
    "colab": {
     "base_uri": "https://localhost:8080/",
     "height": 359
    },
    "executionInfo": {
     "elapsed": 637,
     "status": "ok",
     "timestamp": 1670195337134,
     "user": {
      "displayName": "Jose Luis",
      "userId": "17952480099147442429"
     },
     "user_tz": 180
    },
    "id": "8855d370-c825-415b-9dd0-9dbdd576fada",
    "outputId": "13794aaf-d179-4506-f087-ad8cd0be3e98"
   },
   "outputs": [
    {
     "name": "stdout",
     "output_type": "stream",
     "text": [
      "    count  percentage\n",
      "0  226257        92.0\n",
      "1   19751         8.0\n"
     ]
    },
    {
     "data": {
      "image/png": "[encoded data removed]",
      "text/plain": [
       "<Figure size 640x480 with 1 Axes>"
      ]
     },
     "metadata": {},
     "output_type": "display_data"
    }
   ],
   "source": [
    "### TODO Complete in this cell: show distribution of target variable\n",
    "counts = df.TARGET.value_counts()\n",
    "percs = df.TARGET.value_counts(normalize=True).mul(100).round(1)\n",
    "target_distribution = pd.concat([counts, percs], axis=1, keys=['count', 'percentage'])\n",
    "print(target_distribution.to_string())\n",
    "\n",
    "splot = sns.barplot(target_distribution, x=target_distribution.index, y='percentage', hue=target_distribution.percentage.astype(str) + '%')\n",
    "splot.set_title('Target Variable Distribution')\n",
    "\n",
    "plt.xlabel('Count')\n",
    "plt.ylabel('Percentage')\n",
    "\n",
    "for i, c in enumerate(counts):\n",
    "    plt.bar_label(splot.containers[i], labels=counts, fmt='%.1f')\n",
    "\n",
    "plt.ylim([0, 100])\n",
    "plt.tight_layout()\n",
    "\n",
    "plt.show()"
   ]
  },
  {
   "attachments": {},
   "cell_type": "markdown",
   "id": "cc7b5a63-da31-4a61-9e91-9708dc7633a7",
   "metadata": {
    "id": "cc7b5a63-da31-4a61-9e91-9708dc7633a7"
   },
   "source": [
    "1.6. Show the number of columns of each data type.\n",
    "\n",
    "Just for giving you an idea, the output should look like this (not exactly the same numbers):\n",
    "\n",
    "```python\n",
    "float64    45\n",
    "int64      32\n",
    "object     10\n",
    "```"
   ]
  },
  {
   "cell_type": "code",
   "execution_count": 8,
   "id": "b74878dd-cc48-4e69-bc35-e90457d54b3a",
   "metadata": {
    "colab": {
     "base_uri": "https://localhost:8080/"
    },
    "executionInfo": {
     "elapsed": 298,
     "status": "ok",
     "timestamp": 1666034867408,
     "user": {
      "displayName": "Federico Morales",
      "userId": "06983145799989655383"
     },
     "user_tz": 180
    },
    "id": "b74878dd-cc48-4e69-bc35-e90457d54b3a",
    "outputId": "5c188262-b9b1-4368-b952-fd2b5608a864"
   },
   "outputs": [
    {
     "data": {
      "text/plain": [
       "SK_ID_CURR                        int64\n",
       "TARGET                            int64\n",
       "NAME_CONTRACT_TYPE               object\n",
       "CODE_GENDER                      object\n",
       "FLAG_OWN_CAR                     object\n",
       "FLAG_OWN_REALTY                  object\n",
       "CNT_CHILDREN                      int64\n",
       "AMT_INCOME_TOTAL                float64\n",
       "AMT_CREDIT                      float64\n",
       "AMT_ANNUITY                     float64\n",
       "AMT_GOODS_PRICE                 float64\n",
       "NAME_TYPE_SUITE                  object\n",
       "NAME_INCOME_TYPE                 object\n",
       "NAME_EDUCATION_TYPE              object\n",
       "NAME_FAMILY_STATUS               object\n",
       "NAME_HOUSING_TYPE                object\n",
       "REGION_POPULATION_RELATIVE      float64\n",
       "DAYS_BIRTH                        int64\n",
       "DAYS_EMPLOYED                     int64\n",
       "DAYS_REGISTRATION               float64\n",
       "DAYS_ID_PUBLISH                   int64\n",
       "OWN_CAR_AGE                     float64\n",
       "FLAG_MOBIL                        int64\n",
       "FLAG_EMP_PHONE                    int64\n",
       "FLAG_WORK_PHONE                   int64\n",
       "FLAG_CONT_MOBILE                  int64\n",
       "FLAG_PHONE                        int64\n",
       "FLAG_EMAIL                        int64\n",
       "OCCUPATION_TYPE                  object\n",
       "CNT_FAM_MEMBERS                 float64\n",
       "REGION_RATING_CLIENT              int64\n",
       "REGION_RATING_CLIENT_W_CITY       int64\n",
       "WEEKDAY_APPR_PROCESS_START       object\n",
       "HOUR_APPR_PROCESS_START           int64\n",
       "REG_REGION_NOT_LIVE_REGION        int64\n",
       "REG_REGION_NOT_WORK_REGION        int64\n",
       "LIVE_REGION_NOT_WORK_REGION       int64\n",
       "REG_CITY_NOT_LIVE_CITY            int64\n",
       "REG_CITY_NOT_WORK_CITY            int64\n",
       "LIVE_CITY_NOT_WORK_CITY           int64\n",
       "ORGANIZATION_TYPE                object\n",
       "EXT_SOURCE_1                    float64\n",
       "EXT_SOURCE_2                    float64\n",
       "EXT_SOURCE_3                    float64\n",
       "APARTMENTS_AVG                  float64\n",
       "BASEMENTAREA_AVG                float64\n",
       "YEARS_BEGINEXPLUATATION_AVG     float64\n",
       "YEARS_BUILD_AVG                 float64\n",
       "COMMONAREA_AVG                  float64\n",
       "ELEVATORS_AVG                   float64\n",
       "ENTRANCES_AVG                   float64\n",
       "FLOORSMAX_AVG                   float64\n",
       "FLOORSMIN_AVG                   float64\n",
       "LANDAREA_AVG                    float64\n",
       "LIVINGAPARTMENTS_AVG            float64\n",
       "LIVINGAREA_AVG                  float64\n",
       "NONLIVINGAPARTMENTS_AVG         float64\n",
       "NONLIVINGAREA_AVG               float64\n",
       "APARTMENTS_MODE                 float64\n",
       "BASEMENTAREA_MODE               float64\n",
       "YEARS_BEGINEXPLUATATION_MODE    float64\n",
       "YEARS_BUILD_MODE                float64\n",
       "COMMONAREA_MODE                 float64\n",
       "ELEVATORS_MODE                  float64\n",
       "ENTRANCES_MODE                  float64\n",
       "FLOORSMAX_MODE                  float64\n",
       "FLOORSMIN_MODE                  float64\n",
       "LANDAREA_MODE                   float64\n",
       "LIVINGAPARTMENTS_MODE           float64\n",
       "LIVINGAREA_MODE                 float64\n",
       "NONLIVINGAPARTMENTS_MODE        float64\n",
       "NONLIVINGAREA_MODE              float64\n",
       "APARTMENTS_MEDI                 float64\n",
       "BASEMENTAREA_MEDI               float64\n",
       "YEARS_BEGINEXPLUATATION_MEDI    float64\n",
       "YEARS_BUILD_MEDI                float64\n",
       "COMMONAREA_MEDI                 float64\n",
       "ELEVATORS_MEDI                  float64\n",
       "ENTRANCES_MEDI                  float64\n",
       "FLOORSMAX_MEDI                  float64\n",
       "FLOORSMIN_MEDI                  float64\n",
       "LANDAREA_MEDI                   float64\n",
       "LIVINGAPARTMENTS_MEDI           float64\n",
       "LIVINGAREA_MEDI                 float64\n",
       "NONLIVINGAPARTMENTS_MEDI        float64\n",
       "NONLIVINGAREA_MEDI              float64\n",
       "FONDKAPREMONT_MODE               object\n",
       "HOUSETYPE_MODE                   object\n",
       "TOTALAREA_MODE                  float64\n",
       "WALLSMATERIAL_MODE               object\n",
       "EMERGENCYSTATE_MODE              object\n",
       "OBS_30_CNT_SOCIAL_CIRCLE        float64\n",
       "DEF_30_CNT_SOCIAL_CIRCLE        float64\n",
       "OBS_60_CNT_SOCIAL_CIRCLE        float64\n",
       "DEF_60_CNT_SOCIAL_CIRCLE        float64\n",
       "DAYS_LAST_PHONE_CHANGE          float64\n",
       "FLAG_DOCUMENT_2                   int64\n",
       "FLAG_DOCUMENT_3                   int64\n",
       "FLAG_DOCUMENT_4                   int64\n",
       "FLAG_DOCUMENT_5                   int64\n",
       "FLAG_DOCUMENT_6                   int64\n",
       "FLAG_DOCUMENT_7                   int64\n",
       "FLAG_DOCUMENT_8                   int64\n",
       "FLAG_DOCUMENT_9                   int64\n",
       "FLAG_DOCUMENT_10                  int64\n",
       "FLAG_DOCUMENT_11                  int64\n",
       "FLAG_DOCUMENT_12                  int64\n",
       "FLAG_DOCUMENT_13                  int64\n",
       "FLAG_DOCUMENT_14                  int64\n",
       "FLAG_DOCUMENT_15                  int64\n",
       "FLAG_DOCUMENT_16                  int64\n",
       "FLAG_DOCUMENT_17                  int64\n",
       "FLAG_DOCUMENT_18                  int64\n",
       "FLAG_DOCUMENT_19                  int64\n",
       "FLAG_DOCUMENT_20                  int64\n",
       "FLAG_DOCUMENT_21                  int64\n",
       "AMT_REQ_CREDIT_BUREAU_HOUR      float64\n",
       "AMT_REQ_CREDIT_BUREAU_DAY       float64\n",
       "AMT_REQ_CREDIT_BUREAU_WEEK      float64\n",
       "AMT_REQ_CREDIT_BUREAU_MON       float64\n",
       "AMT_REQ_CREDIT_BUREAU_QRT       float64\n",
       "AMT_REQ_CREDIT_BUREAU_YEAR      float64\n",
       "dtype: object"
      ]
     },
     "execution_count": 8,
     "metadata": {},
     "output_type": "execute_result"
    }
   ],
   "source": [
    "### TODO Complete in this cell: show number of columns per data type\n",
    "df.dtypes"
   ]
  },
  {
   "attachments": {},
   "cell_type": "markdown",
   "id": "c0a8799e-d32a-4239-a85d-6ff29ab4682f",
   "metadata": {
    "id": "c0a8799e-d32a-4239-a85d-6ff29ab4682f"
   },
   "source": [
    "1.7. For categorical variables (`object` data type), show the number of distinct values in each column (number of labels).\n",
    "\n",
    "Just for giving you an idea, the output should look like this (not exactly the same numbers):\n",
    "\n",
    "```python\n",
    "NAME_CONTRACT_TYPE             5\n",
    "CODE_GENDER                    2\n",
    "FLAG_OWN_CAR                   1\n",
    "FLAG_OWN_REALTY                1\n",
    "...\n",
    "```"
   ]
  },
  {
   "cell_type": "code",
   "execution_count": 9,
   "id": "8b294976-dc0d-44bd-9bf6-29ba1f6a2e2b",
   "metadata": {
    "colab": {
     "base_uri": "https://localhost:8080/"
    },
    "executionInfo": {
     "elapsed": 302,
     "status": "ok",
     "timestamp": 1666034867708,
     "user": {
      "displayName": "Federico Morales",
      "userId": "06983145799989655383"
     },
     "user_tz": 180
    },
    "id": "8b294976-dc0d-44bd-9bf6-29ba1f6a2e2b",
    "outputId": "277be5a9-e286-4d82-956d-7af49e6112ec"
   },
   "outputs": [
    {
     "data": {
      "text/plain": [
       "NAME_CONTRACT_TYPE             2\n",
       "CODE_GENDER                    3\n",
       "FLAG_OWN_CAR                   2\n",
       "FLAG_OWN_REALTY                2\n",
       "NAME_TYPE_SUITE                7\n",
       "NAME_INCOME_TYPE               8\n",
       "NAME_EDUCATION_TYPE            5\n",
       "NAME_FAMILY_STATUS             6\n",
       "NAME_HOUSING_TYPE              6\n",
       "OCCUPATION_TYPE               18\n",
       "WEEKDAY_APPR_PROCESS_START     7\n",
       "ORGANIZATION_TYPE             58\n",
       "FONDKAPREMONT_MODE             4\n",
       "HOUSETYPE_MODE                 3\n",
       "WALLSMATERIAL_MODE             7\n",
       "EMERGENCYSTATE_MODE            2\n",
       "dtype: int64"
      ]
     },
     "execution_count": 9,
     "metadata": {},
     "output_type": "execute_result"
    }
   ],
   "source": [
    "### TODO Complete in this cell: show number of unique values per categorical column\n",
    "df.select_dtypes(include='object').nunique()"
   ]
  },
  {
   "attachments": {},
   "cell_type": "markdown",
   "id": "967d1938-e27d-4fbd-9bdc-f26364f5fdfd",
   "metadata": {
    "id": "967d1938-e27d-4fbd-9bdc-f26364f5fdfd"
   },
   "source": [
    "1.8. Analyzing missing data: show the percentage of missing data for each column ordered by percentage descending (show only the 20 columns with higher missing pct)\n",
    "\n",
    "Just for giving you an idea, the output should look like this (not exactly the same numbers and columns names):\n",
    "\n",
    "```python\n",
    "                   Total   Percent\n",
    "COMMONAREA_AVG    121000      85.2\n",
    "COMMONAREA_MODE   121000      76.6\n",
    "COMMONAREA_MEDI   121000      62.9\n",
    "...\n",
    "```"
   ]
  },
  {
   "cell_type": "code",
   "execution_count": 10,
   "id": "0b65aa7e-d8a2-44b0-9803-ca5277471470",
   "metadata": {
    "colab": {
     "base_uri": "https://localhost:8080/",
     "height": 676
    },
    "executionInfo": {
     "elapsed": 604,
     "status": "ok",
     "timestamp": 1666034868311,
     "user": {
      "displayName": "Federico Morales",
      "userId": "06983145799989655383"
     },
     "user_tz": 180
    },
    "id": "0b65aa7e-d8a2-44b0-9803-ca5277471470",
    "outputId": "dca74fc2-8fd7-4d29-ef67-f58c3abf2e09",
    "scrolled": true
   },
   "outputs": [
    {
     "data": {
      "text/html": [
       "<div>\n",
       "<style scoped>\n",
       "    .dataframe tbody tr th:only-of-type {\n",
       "        vertical-align: middle;\n",
       "    }\n",
       "\n",
       "    .dataframe tbody tr th {\n",
       "        vertical-align: top;\n",
       "    }\n",
       "\n",
       "    .dataframe thead th {\n",
       "        text-align: right;\n",
       "    }\n",
       "</style>\n",
       "<table border=\"1\" class=\"dataframe\">\n",
       "  <thead>\n",
       "    <tr style=\"text-align: right;\">\n",
       "      <th></th>\n",
       "      <th>Total</th>\n",
       "      <th>Percent</th>\n",
       "    </tr>\n",
       "  </thead>\n",
       "  <tbody>\n",
       "    <tr>\n",
       "      <th>COMMONAREA_MEDI</th>\n",
       "      <td>172189</td>\n",
       "      <td>70.0%</td>\n",
       "    </tr>\n",
       "    <tr>\n",
       "      <th>COMMONAREA_AVG</th>\n",
       "      <td>172189</td>\n",
       "      <td>70.0%</td>\n",
       "    </tr>\n",
       "    <tr>\n",
       "      <th>COMMONAREA_MODE</th>\n",
       "      <td>172189</td>\n",
       "      <td>70.0%</td>\n",
       "    </tr>\n",
       "    <tr>\n",
       "      <th>NONLIVINGAPARTMENTS_MODE</th>\n",
       "      <td>171096</td>\n",
       "      <td>69.5%</td>\n",
       "    </tr>\n",
       "    <tr>\n",
       "      <th>NONLIVINGAPARTMENTS_AVG</th>\n",
       "      <td>171096</td>\n",
       "      <td>69.5%</td>\n",
       "    </tr>\n",
       "    <tr>\n",
       "      <th>NONLIVINGAPARTMENTS_MEDI</th>\n",
       "      <td>171096</td>\n",
       "      <td>69.5%</td>\n",
       "    </tr>\n",
       "    <tr>\n",
       "      <th>LIVINGAPARTMENTS_MODE</th>\n",
       "      <td>168494</td>\n",
       "      <td>68.5%</td>\n",
       "    </tr>\n",
       "    <tr>\n",
       "      <th>LIVINGAPARTMENTS_AVG</th>\n",
       "      <td>168494</td>\n",
       "      <td>68.5%</td>\n",
       "    </tr>\n",
       "    <tr>\n",
       "      <th>FONDKAPREMONT_MODE</th>\n",
       "      <td>168561</td>\n",
       "      <td>68.5%</td>\n",
       "    </tr>\n",
       "    <tr>\n",
       "      <th>LIVINGAPARTMENTS_MEDI</th>\n",
       "      <td>168494</td>\n",
       "      <td>68.5%</td>\n",
       "    </tr>\n",
       "    <tr>\n",
       "      <th>FLOORSMIN_AVG</th>\n",
       "      <td>167255</td>\n",
       "      <td>68.0%</td>\n",
       "    </tr>\n",
       "    <tr>\n",
       "      <th>FLOORSMIN_MODE</th>\n",
       "      <td>167255</td>\n",
       "      <td>68.0%</td>\n",
       "    </tr>\n",
       "    <tr>\n",
       "      <th>FLOORSMIN_MEDI</th>\n",
       "      <td>167255</td>\n",
       "      <td>68.0%</td>\n",
       "    </tr>\n",
       "    <tr>\n",
       "      <th>YEARS_BUILD_MEDI</th>\n",
       "      <td>163980</td>\n",
       "      <td>66.7%</td>\n",
       "    </tr>\n",
       "    <tr>\n",
       "      <th>YEARS_BUILD_MODE</th>\n",
       "      <td>163980</td>\n",
       "      <td>66.7%</td>\n",
       "    </tr>\n",
       "    <tr>\n",
       "      <th>YEARS_BUILD_AVG</th>\n",
       "      <td>163980</td>\n",
       "      <td>66.7%</td>\n",
       "    </tr>\n",
       "    <tr>\n",
       "      <th>OWN_CAR_AGE</th>\n",
       "      <td>162503</td>\n",
       "      <td>66.1%</td>\n",
       "    </tr>\n",
       "    <tr>\n",
       "      <th>LANDAREA_MEDI</th>\n",
       "      <td>146436</td>\n",
       "      <td>59.5%</td>\n",
       "    </tr>\n",
       "    <tr>\n",
       "      <th>LANDAREA_MODE</th>\n",
       "      <td>146436</td>\n",
       "      <td>59.5%</td>\n",
       "    </tr>\n",
       "    <tr>\n",
       "      <th>LANDAREA_AVG</th>\n",
       "      <td>146436</td>\n",
       "      <td>59.5%</td>\n",
       "    </tr>\n",
       "  </tbody>\n",
       "</table>\n",
       "</div>"
      ],
      "text/plain": [
       "                           Total Percent\n",
       "COMMONAREA_MEDI           172189   70.0%\n",
       "COMMONAREA_AVG            172189   70.0%\n",
       "COMMONAREA_MODE           172189   70.0%\n",
       "NONLIVINGAPARTMENTS_MODE  171096   69.5%\n",
       "NONLIVINGAPARTMENTS_AVG   171096   69.5%\n",
       "NONLIVINGAPARTMENTS_MEDI  171096   69.5%\n",
       "LIVINGAPARTMENTS_MODE     168494   68.5%\n",
       "LIVINGAPARTMENTS_AVG      168494   68.5%\n",
       "FONDKAPREMONT_MODE        168561   68.5%\n",
       "LIVINGAPARTMENTS_MEDI     168494   68.5%\n",
       "FLOORSMIN_AVG             167255   68.0%\n",
       "FLOORSMIN_MODE            167255   68.0%\n",
       "FLOORSMIN_MEDI            167255   68.0%\n",
       "YEARS_BUILD_MEDI          163980   66.7%\n",
       "YEARS_BUILD_MODE          163980   66.7%\n",
       "YEARS_BUILD_AVG           163980   66.7%\n",
       "OWN_CAR_AGE               162503   66.1%\n",
       "LANDAREA_MEDI             146436   59.5%\n",
       "LANDAREA_MODE             146436   59.5%\n",
       "LANDAREA_AVG              146436   59.5%"
      ]
     },
     "execution_count": 10,
     "metadata": {},
     "output_type": "execute_result"
    }
   ],
   "source": [
    "### TODO Complete in this cell: checking missing data\n",
    "counts = df.isna().sum()\n",
    "percs = counts.mul(100).div(len(df)).round(1).astype(str) + '%'\n",
    "missing_data_df = pd.DataFrame({ 'Total': counts, 'Percent': percs })\n",
    "missing_data_df.sort_values(by='Percent', ascending=False).head(20)"
   ]
  },
  {
   "attachments": {},
   "cell_type": "markdown",
   "id": "783c5bb6-6b6d-4e34-bbe2-3a5dc319a4f0",
   "metadata": {
    "id": "783c5bb6-6b6d-4e34-bbe2-3a5dc319a4f0"
   },
   "source": [
    "#### Analyzing distribution of variables"
   ]
  },
  {
   "attachments": {},
   "cell_type": "markdown",
   "id": "9c79d319-bde8-47a4-890d-6694edf221e2",
   "metadata": {
    "id": "9c79d319-bde8-47a4-890d-6694edf221e2"
   },
   "source": [
    "1.9. Show the distribution of credit amounts.\n",
    "\n",
    "*Hint:* Take a look at `AMT_CREDIT` column."
   ]
  },
  {
   "cell_type": "code",
   "execution_count": 11,
   "id": "bc953042-9744-498e-a435-fa660e76c70d",
   "metadata": {
    "colab": {
     "base_uri": "https://localhost:8080/",
     "height": 408
    },
    "executionInfo": {
     "elapsed": 2137,
     "status": "ok",
     "timestamp": 1666034870446,
     "user": {
      "displayName": "Federico Morales",
      "userId": "06983145799989655383"
     },
     "user_tz": 180
    },
    "id": "bc953042-9744-498e-a435-fa660e76c70d",
    "outputId": "28e9ab9e-788b-4ca8-e796-a672103d6045",
    "scrolled": false
   },
   "outputs": [
    {
     "data": {
      "image/png": "[encoded data removed]",
      "text/plain": [
       "<Figure size 640x480 with 1 Axes>"
      ]
     },
     "metadata": {},
     "output_type": "display_data"
    }
   ],
   "source": [
    "sns.histplot(df['AMT_CREDIT'], kde=True, fill=True, bins=30).set_title('AMT Credit Distribution')\n",
    "plt.xlabel('AMT Credit amounts')\n",
    "plt.ylabel('Count')\n",
    "plt.show()"
   ]
  },
  {
   "attachments": {},
   "cell_type": "markdown",
   "id": "f4e7bf4a-25c7-47c0-aea8-ed916d8827f6",
   "metadata": {
    "id": "f4e7bf4a-25c7-47c0-aea8-ed916d8827f6"
   },
   "source": [
    "1.10. Plot the education level of the credit applicants, show the percentages of each category. Also print the total counts for each category.\n",
    "\n",
    "*Hint:* Take a look at `NAME_EDUCATION_TYPE` column."
   ]
  },
  {
   "cell_type": "code",
   "execution_count": 12,
   "id": "406d7d06-b21a-4938-8e3d-11798def489b",
   "metadata": {
    "colab": {
     "base_uri": "https://localhost:8080/",
     "height": 686
    },
    "executionInfo": {
     "elapsed": 6,
     "status": "ok",
     "timestamp": 1666034870446,
     "user": {
      "displayName": "Federico Morales",
      "userId": "06983145799989655383"
     },
     "user_tz": 180
    },
    "id": "406d7d06-b21a-4938-8e3d-11798def489b",
    "outputId": "41fa858b-e391-427a-9e2d-b21c97ec0993"
   },
   "outputs": [
    {
     "name": "stdout",
     "output_type": "stream",
     "text": [
      "                  Education Type   count  percentage\n",
      "0  Secondary / secondary special  174657        71.0\n",
      "1               Higher education   59990        24.4\n",
      "2              Incomplete higher    8248         3.4\n",
      "3                Lower secondary    2984         1.2\n",
      "4                Academic degree     129         0.1\n"
     ]
    },
    {
     "data": {
      "image/png": "[encoded data removed]",
      "text/plain": [
       "<Figure size 640x480 with 1 Axes>"
      ]
     },
     "metadata": {},
     "output_type": "display_data"
    }
   ],
   "source": [
    "### TODO Complete in this cell: level of education plot\n",
    "counts_df = df['NAME_EDUCATION_TYPE'].value_counts().rename_axis('Education Type').reset_index(name='count')\n",
    "percs_df = df['NAME_EDUCATION_TYPE'].value_counts(normalize=True).mul(100).round(1).rename_axis('Education Type').reset_index(name='percentage')\n",
    "net_distribution = counts_df.merge(percs_df)\n",
    "print(net_distribution)\n",
    "\n",
    "splot = sns.barplot(x='Education Type', y='percentage', data=net_distribution)\n",
    "splot.set(title='Education Type Distribution')\n",
    "\n",
    "counts = counts_df['count']\n",
    "for c in counts:\n",
    "    plt.bar_label(splot.containers[0], labels=counts, fmt='%.1f')\n",
    "\n",
    "plt.xlabel('Count')\n",
    "plt.ylabel('Percentage')\n",
    "plt.xticks(rotation=90)\n",
    "plt.ylim([0, 80])\n",
    "plt.show()"
   ]
  },
  {
   "attachments": {},
   "cell_type": "markdown",
   "id": "78e17d30-acce-4b7f-bacc-af488cda3e7d",
   "metadata": {
    "id": "78e17d30-acce-4b7f-bacc-af488cda3e7d"
   },
   "source": [
    "1.11. Plot the distribution of ocupation of the loan applicants.\n",
    "\n",
    "*Hint:* Take a look at `OCCUPATION_TYPE` column."
   ]
  },
  {
   "cell_type": "code",
   "execution_count": 13,
   "id": "ec101d97-c77b-4e5d-b69f-7c2f8f652d8f",
   "metadata": {
    "colab": {
     "base_uri": "https://localhost:8080/",
     "height": 703
    },
    "executionInfo": {
     "elapsed": 687,
     "status": "ok",
     "timestamp": 1666034871130,
     "user": {
      "displayName": "Federico Morales",
      "userId": "06983145799989655383"
     },
     "user_tz": 180
    },
    "id": "ec101d97-c77b-4e5d-b69f-7c2f8f652d8f",
    "outputId": "50aee514-131b-47ed-dea7-0d4de24d5c6a",
    "scrolled": false
   },
   "outputs": [
    {
     "data": {
      "image/png": "[encoded data removed]",
      "text/plain": [
       "<Figure size 640x480 with 1 Axes>"
      ]
     },
     "metadata": {},
     "output_type": "display_data"
    }
   ],
   "source": [
    "### TODO Complete in this cell: ocupation of applicants\n",
    "sns.histplot(x=df['OCCUPATION_TYPE'], fill=True, bins=30).set_title('Occupation Type Distribution')\n",
    "plt.xlabel('Occupation Type')\n",
    "plt.xticks(rotation=90)\n",
    "plt.show()"
   ]
  },
  {
   "attachments": {},
   "cell_type": "markdown",
   "id": "824b1bc0-4dad-4ce8-b574-cbae5984a589",
   "metadata": {
    "id": "824b1bc0-4dad-4ce8-b574-cbae5984a589"
   },
   "source": [
    "1.12. Plot the family status of the applicants.\n",
    "\n",
    "*Hint:* Take a look at `NAME_FAMILY_STATUS` column."
   ]
  },
  {
   "cell_type": "code",
   "execution_count": 14,
   "id": "95463328-4392-435e-a203-95e28998930b",
   "metadata": {
    "colab": {
     "base_uri": "https://localhost:8080/",
     "height": 593
    },
    "executionInfo": {
     "elapsed": 6,
     "status": "ok",
     "timestamp": 1666034871131,
     "user": {
      "displayName": "Federico Morales",
      "userId": "06983145799989655383"
     },
     "user_tz": 180
    },
    "id": "95463328-4392-435e-a203-95e28998930b",
    "outputId": "b19a8a5c-32e4-4408-e6c2-7b37beb52061"
   },
   "outputs": [
    {
     "data": {
      "image/png": "[encoded data removed]",
      "text/plain": [
       "<Figure size 640x480 with 1 Axes>"
      ]
     },
     "metadata": {},
     "output_type": "display_data"
    }
   ],
   "source": [
    "### TODO Complete in this cell: family status\n",
    "sns.histplot(x=df['NAME_FAMILY_STATUS'], fill=True, bins=30).set_title('Family Status Distribution')\n",
    "plt.xlabel('Family Status')\n",
    "plt.xticks(rotation=90)\n",
    "plt.show()"
   ]
  },
  {
   "attachments": {},
   "cell_type": "markdown",
   "id": "efa77db6-a50a-454e-b1b2-83abe3c8baae",
   "metadata": {
    "id": "efa77db6-a50a-454e-b1b2-83abe3c8baae"
   },
   "source": [
    "1.13. Plot the income type of applicants grouped by the target variable.\n",
    "\n",
    "*Hint:* Take a look at `NAME_INCOME_TYPE` and `TARGET` columns. You can use `hue` parameter on Seaborn to group samples using another categorical feature."
   ]
  },
  {
   "cell_type": "code",
   "execution_count": 15,
   "id": "f22c3267-56c8-45fc-9184-b822cd026571",
   "metadata": {
    "colab": {
     "base_uri": "https://localhost:8080/",
     "height": 747
    },
    "executionInfo": {
     "elapsed": 3107,
     "status": "ok",
     "timestamp": 1666034874234,
     "user": {
      "displayName": "Federico Morales",
      "userId": "06983145799989655383"
     },
     "user_tz": 180
    },
    "id": "f22c3267-56c8-45fc-9184-b822cd026571",
    "outputId": "149ed35d-aa89-4988-8131-7b58a395d7f4",
    "scrolled": true
   },
   "outputs": [
    {
     "data": {
      "image/png": "[encoded data removed]",
      "text/plain": [
       "<Figure size 1600x900 with 1 Axes>"
      ]
     },
     "metadata": {},
     "output_type": "display_data"
    }
   ],
   "source": [
    "### TODO Complete in this cell: Income type of applicants by target variable\n",
    "plt.figure(figsize=(16,9))\n",
    "sns.histplot(data=df, x='NAME_INCOME_TYPE', fill=True, bins=30, hue='TARGET', multiple='stack').set_title('Income Type with Target Distribution')\n",
    "plt.xticks(rotation=45)\n",
    "plt.xlabel('Income type')\n",
    "plt.show()"
   ]
  },
  {
   "attachments": {},
   "cell_type": "markdown",
   "id": "675b1ae3-c943-4737-bdb8-2ecff733b27b",
   "metadata": {
    "id": "675b1ae3-c943-4737-bdb8-2ecff733b27b"
   },
   "source": [
    "## 2. Preprocessing"
   ]
  },
  {
   "attachments": {},
   "cell_type": "markdown",
   "id": "VvT_6ZEOztAQ",
   "metadata": {
    "id": "VvT_6ZEOztAQ"
   },
   "source": [
    "2.1. The next step will be to separate our train and test datasets columns between Features (the input to the model) and Targets (what the model has to predict with the given features).\n",
    "\n",
    "- Assign to `X_train` all the columns from `app_train` that should be used as features for training our models.\n",
    "- Assign to `y_train` the single column from `app_train` that should be used as our target (i.e. what we want to predict).\n",
    "- Assign to `X_test` all the columns from `app_test` that should be used as features for training our models.\n",
    "- Assign to `y_test` the single column from `app_test` that should be used as our target (i.e. what we want to predict).\n",
    "\n",
    "To do that, you will have to complete the function `data_utils.get_feature_target()` in all the parts with a `TODO` mark.\n"
   ]
  },
  {
   "attachments": {},
   "cell_type": "markdown",
   "id": "wrkoywq9aNvJ",
   "metadata": {
    "id": "wrkoywq9aNvJ"
   },
   "source": [
    "**Don't change anything in this cell, just make it run correctly**"
   ]
  },
  {
   "cell_type": "code",
   "execution_count": 16,
   "id": "5F5UeGj1aNvJ",
   "metadata": {
    "colab": {
     "base_uri": "https://localhost:8080/"
    },
    "executionInfo": {
     "elapsed": 511,
     "status": "ok",
     "timestamp": 1670195363853,
     "user": {
      "displayName": "Jose Luis",
      "userId": "17952480099147442429"
     },
     "user_tz": 180
    },
    "id": "5F5UeGj1aNvJ",
    "outputId": "6ce8ac80-c09c-43dd-a537-cc7b25220efe"
   },
   "outputs": [
    {
     "name": "stdout",
     "output_type": "stream",
     "text": [
      "Success: X_train shape is correct!\n",
      "Success: X_train type is correct!\n",
      "Success: y_train shape is correct!\n",
      "Success: X_test shape is correct!\n",
      "Success: X_test type is correct!\n",
      "Success: y_test shape is correct!\n"
     ]
    }
   ],
   "source": [
    "# Now we execute the function above to get the result\n",
    "X_train, y_train, X_test, y_test = data_utils.get_feature_target(app_train, app_test)\n",
    "\n",
    "\n",
    "if X_train.shape == (246008, 121):\n",
    "    print(\"Success: X_train shape is correct!\")\n",
    "else:\n",
    "    raise ValueError(\"X_train dataset shape is incorrect, please review your code\")\n",
    "\n",
    "if isinstance(X_train, pd.DataFrame):\n",
    "    print(\"Success: X_train type is correct!\")\n",
    "else:\n",
    "    raise ValueError(\"Train dataset type is incorrect, please review your code\")\n",
    "\n",
    "if y_train.shape == (246008,) or y_train.shape == (246008, 1):\n",
    "    print(\"Success: y_train shape is correct!\")\n",
    "else:\n",
    "    raise ValueError(\"Train labels shape is incorrect, please review your code\")\n",
    "\n",
    "if X_test.shape == (61503, 121):\n",
    "    print(\"Success: X_test shape is correct!\")\n",
    "else:\n",
    "    raise ValueError(\"Test dataset shape is incorrect, please review your code\")\n",
    "\n",
    "if isinstance(X_test, pd.DataFrame):\n",
    "    print(\"Success: X_test type is correct!\")\n",
    "else:\n",
    "    raise ValueError(\"Test dataset type is incorrect, please review your code\")\n",
    "\n",
    "if y_test.shape == (61503,) or y_test.shape == (61503, 1):\n",
    "    print(\"Success: y_test shape is correct!\")\n",
    "else:\n",
    "    raise ValueError(\"Test labels shape is incorrect, please review your code\")"
   ]
  },
  {
   "attachments": {},
   "cell_type": "markdown",
   "id": "46078a39",
   "metadata": {},
   "source": [
    "2.2. In order to avoid overfitting while searching for the best model hyperparameters, it's always a good idea to split our training dataset into two new sets called `train` and `validation`. \n",
    "\n",
    "While the `train` data will be used to fit the model and adjust its internal weights, the `validation` will be exclusively used to test the model performance on unseen data during training, it's like a testing dataset used during experimentation.\n",
    "\n",
    "Remember we can't use the `test` dataset to validate the model performance because this one lacks of labels :( So the `validation` data will be the only resource you will have to evaluate the final model performance before doing your submission.\n",
    "\n",
    "To do that, you will have to complete the function `data_utils.get_train_val_sets()` in all the parts with a `TODO` mark.\n",
    "\n",
    "This function should perform these activities:\n",
    "- Use the `sklearn.model_selection.train_test_split` function with `X_train`, `y_train` datasets.\n",
    "- Assign only 20% of the dataset for testing (see `test_size` parameter in `train_test_split`)\n",
    "- Assign a seed so we get reproducible output across multiple function calls (see `random_state` parameter in `train_test_split`)\n",
    "- Shuffle the data (see `shuffle` parameter in `train_test_split`)\n",
    "\n",
    "For reference, see:\n",
    "- [Scikit-learn train_test_split](https://scikit-learn.org/stable/modules/generated/sklearn.model_selection.train_test_split.html)\n",
    "- [Wikipedia: Training, validation, and test data sets](https://en.wikipedia.org/wiki/Training,_validation,_and_test_data_sets)\n",
    "- [Train Test Validation Split: How To & Best Practices](https://www.v7labs.com/blog/train-validation-test-set)\n"
   ]
  },
  {
   "attachments": {},
   "cell_type": "markdown",
   "id": "ec771222",
   "metadata": {},
   "source": [
    "**Don't change anything in this cell, just make it run correctly**"
   ]
  },
  {
   "cell_type": "code",
   "execution_count": null,
   "id": "07d31b26",
   "metadata": {},
   "outputs": [],
   "source": [
    "# Now we execute the function above to get the result\n",
    "X_train, X_val, y_train, y_val = data_utils.get_train_val_sets(X_train, y_train)\n",
    "\n",
    "\n",
    "if X_train.shape == (196806, 121):\n",
    "    print(\"Success: X_train shape is correct!\")\n",
    "else:\n",
    "    raise ValueError(\"X_train dataset shape is incorrect, please review your code\")\n",
    "\n",
    "if isinstance(X_train, pd.DataFrame):\n",
    "    print(\"Success: X_train type is correct!\")\n",
    "else:\n",
    "    raise ValueError(\"Train dataset type is incorrect, please review your code\")\n",
    "\n",
    "if y_train.shape == (196806,) or y_train.shape == (196806, 1):\n",
    "    print(\"Success: y_train shape is correct!\")\n",
    "else:\n",
    "    raise ValueError(\"Train labels shape is incorrect, please review your code\")\n",
    "\n",
    "if X_val.shape == (49202, 121):\n",
    "    print(\"Success: X_test shape is correct!\")\n",
    "else:\n",
    "    raise ValueError(\"Test dataset shape is incorrect, please review your code\")\n",
    "\n",
    "if isinstance(X_val, pd.DataFrame):\n",
    "    print(\"Success: X_test type is correct!\")\n",
    "else:\n",
    "    raise ValueError(\"Test dataset type is incorrect, please review your code\")\n",
    "\n",
    "if y_val.shape == (49202,) or y_val.shape == (49202, 1):\n",
    "    print(\"Success: y_test shape is correct!\")\n",
    "else:\n",
    "    raise ValueError(\"Test labels shape is incorrect, please review your code\")"
   ]
  },
  {
   "attachments": {},
   "cell_type": "markdown",
   "id": "51397c38-0204-454b-8fe6-011dc8c38418",
   "metadata": {
    "id": "51397c38-0204-454b-8fe6-011dc8c38418"
   },
   "source": [
    "2.3. In this section, you will code a function to make all the data pre-processing for the dataset. What you have to deliver is a function that takes `X_train`, `X_val`, and `X_test` dataframes, processes all features, and returns the transformed data as numpy arrays ready to be used for training.\n",
    "\n",
    "The function should perform these activities, in this order:\n",
    "\n",
    "1. Correct outliers/anomalous values in numerical columns (`DAYS_EMPLOYED` column)\n",
    "2. Encode string categorical features (dytpe `object`):\n",
    "    - If the feature has 2 categories encode using binary encoding\n",
    "    - More than 2 categories, use one hot encoding \n",
    "3. Impute values for all columns with missing data (use median as imputing value)\n",
    "4. Feature scaling with Min-Max scaler.\n",
    "\n",
    "Complete the function `preprocessing.preprocess_data()` following the instructions given above."
   ]
  },
  {
   "attachments": {},
   "cell_type": "markdown",
   "id": "-1YXG39vc2qX",
   "metadata": {
    "id": "-1YXG39vc2qX"
   },
   "source": [
    "In the following cell, we are going to execute the preprocessing function you've just coded. No need to modify this.\n",
    "\n",
    "**Important Note:** From now on, you must always use `train_data` for training your models and `val_data` only for the final evaluation of the model trained. About `test_data`, it will be used at the end only for submitting your final model predictions and be evaluated on our side with the hidden annotations.\n"
   ]
  },
  {
   "attachments": {},
   "cell_type": "markdown",
   "id": "mMkqwi0gd7a8",
   "metadata": {
    "id": "mMkqwi0gd7a8"
   },
   "source": [
    "**Don't change anything in this cell, just make it run correctly**"
   ]
  },
  {
   "cell_type": "code",
   "execution_count": null,
   "id": "whWcb5jtcyYe",
   "metadata": {
    "colab": {
     "base_uri": "https://localhost:8080/"
    },
    "executionInfo": {
     "elapsed": 315,
     "status": "ok",
     "timestamp": 1670195395495,
     "user": {
      "displayName": "Jose Luis",
      "userId": "17952480099147442429"
     },
     "user_tz": 180
    },
    "id": "whWcb5jtcyYe",
    "outputId": "5bb07f0e-a0b6-4773-94b1-97c5f2ccd053"
   },
   "outputs": [],
   "source": [
    "train_data, val_data, test_data = preprocessing.preprocess_data(X_train, X_val, X_test)\n",
    "\n",
    "\n",
    "if train_data.shape == (196806, 246):\n",
    "    print(\"Success: train_data shape is correct!\")\n",
    "else:\n",
    "    raise ValueError(\"train_data dataset shape is incorrect, please review your code\")\n",
    "\n",
    "if isinstance(train_data, np.ndarray):\n",
    "    print(\"Success: train_data type is correct!\")\n",
    "else:\n",
    "    raise ValueError(\"Train dataset type is incorrect, please review your code\")\n",
    "\n",
    "if val_data.shape == (49202, 246):\n",
    "    print(\"Success: val_data shape is correct!\")\n",
    "else:\n",
    "    raise ValueError(\"val_data dataset shape is incorrect, please review your code\")\n",
    "\n",
    "if isinstance(val_data, np.ndarray):\n",
    "    print(\"Success: val_data type is correct!\")\n",
    "else:\n",
    "    raise ValueError(\"Validation dataset type is incorrect, please review your code\")\n",
    "\n",
    "if test_data.shape == (61503, 246):\n",
    "    print(\"Success: test_data shape is correct!\")\n",
    "else:\n",
    "    raise ValueError(\"test_data dataset shape is incorrect, please review your code\")\n",
    "\n",
    "if isinstance(test_data, np.ndarray):\n",
    "    print(\"Success: test_data type is correct!\")\n",
    "else:\n",
    "    raise ValueError(\"Test dataset type is incorrect, please review your code\")"
   ]
  },
  {
   "attachments": {},
   "cell_type": "markdown",
   "id": "2f5df1e8-1f03-4f14-9dbd-292d3b84859d",
   "metadata": {
    "id": "2f5df1e8-1f03-4f14-9dbd-292d3b84859d"
   },
   "source": [
    "## 3. Training Models"
   ]
  },
  {
   "attachments": {},
   "cell_type": "markdown",
   "id": "83062f02-7157-4083-b57b-78fbc95fe39b",
   "metadata": {
    "id": "83062f02-7157-4083-b57b-78fbc95fe39b"
   },
   "source": [
    "As usual, you will start training simple models and will progressively move to more complex models and pipelines.\n",
    "\n",
    "**Pro tip:** It is of utmost importance to make an accurate estimation of the time required to train a machine learning model. Because of this, we recommend you to use Python [time](https://docs.python.org/3/library/time.html) library or Jupyter magic function `%%time` on the cell you're training your model to get an estimate of the time it took to fit your data."
   ]
  },
  {
   "attachments": {},
   "cell_type": "markdown",
   "id": "7e99a786-a17e-4caa-9ac7-48fced40fa71",
   "metadata": {
    "id": "7e99a786-a17e-4caa-9ac7-48fced40fa71"
   },
   "source": [
    "### Baseline: LogisticRegression"
   ]
  },
  {
   "attachments": {},
   "cell_type": "markdown",
   "id": "91e10796-6d86-4fce-8738-4b9c4fbbf359",
   "metadata": {
    "id": "91e10796-6d86-4fce-8738-4b9c4fbbf359"
   },
   "source": [
    "3.1. Import LogisticRegression from sklearn and train a model using the preprocesed train data from the previous section, and just default parameters. If you receive a warning because the algorithm failed to converge, try increasing the number of iterations or decreasing the C parameter.\n",
    "\n",
    "Assign the trained model to `log_reg` variable."
   ]
  },
  {
   "attachments": {},
   "cell_type": "markdown",
   "id": "2OTXvqibhqid",
   "metadata": {
    "id": "2OTXvqibhqid"
   },
   "source": [
    "**Don't change anything in this cell, just make it run correctly**"
   ]
  },
  {
   "cell_type": "code",
   "execution_count": null,
   "id": "ef64563b",
   "metadata": {},
   "outputs": [],
   "source": [
    "%%time\n",
    "\n",
    "# This is an example code on how to:\n",
    "#   - Create and fit (train) a logistic regression\n",
    "#   - Assign to `log_reg` variable\n",
    "log_reg = None\n",
    "log_reg = LogisticRegression(C=0.0001)\n",
    "log_reg.fit(train_data, y_train)"
   ]
  },
  {
   "attachments": {},
   "cell_type": "markdown",
   "id": "2OTXvqibhqid",
   "metadata": {
    "id": "2OTXvqibhqid"
   },
   "source": [
    "**Don't change anything in this cell, just make it run correctly**"
   ]
  },
  {
   "cell_type": "code",
   "execution_count": null,
   "id": "JmFsb5DShqid",
   "metadata": {
    "colab": {
     "base_uri": "https://localhost:8080/"
    },
    "executionInfo": {
     "elapsed": 310,
     "status": "ok",
     "timestamp": 1670195424262,
     "user": {
      "displayName": "Jose Luis",
      "userId": "17952480099147442429"
     },
     "user_tz": 180
    },
    "id": "JmFsb5DShqid",
    "outputId": "3cc332c0-18c0-4257-82b7-3e95e05bc012"
   },
   "outputs": [],
   "source": [
    "if isinstance(log_reg, LogisticRegression):\n",
    "    print(\"Success: Logistic regression model type is correct!\")\n",
    "else:\n",
    "    raise ValueError(\n",
    "        \"Logistic regression model type is incorrect, please review your code\"\n",
    "    )\n",
    "\n",
    "check_is_fitted(log_reg)"
   ]
  },
  {
   "attachments": {},
   "cell_type": "markdown",
   "id": "018d5c7e-012f-47cc-8bfc-0332de907ae9",
   "metadata": {
    "id": "018d5c7e-012f-47cc-8bfc-0332de907ae9"
   },
   "source": [
    "3.2. Use the trained model to predict probabilities for `train_data` and `val_data`.\n",
    "\n",
    "**Important note:** When using the function `predict_proba()` for getting model probabilities you will get, for each sample, a tuple indicating the probability for class 0 and for class 1 respectively. For computing the AUC ROC score we only need the probability that the debt is not repaid (equivalent to class 1). As an example, the result from running `predict_proba()` on validation dataset will have a shape of `(49202, 2)` but, we only need the second column from that matrix, which corresponds to the class 1.\n"
   ]
  },
  {
   "attachments": {},
   "cell_type": "markdown",
   "id": "2OTXvqibhqid",
   "metadata": {
    "id": "2OTXvqibhqid"
   },
   "source": [
    "**Don't change anything in this cell, just make it run correctly**"
   ]
  },
  {
   "cell_type": "code",
   "execution_count": null,
   "id": "798ae69b-1fe2-458d-9de7-3e1ed70b9b02",
   "metadata": {
    "executionInfo": {
     "elapsed": 276,
     "status": "ok",
     "timestamp": 1670195428153,
     "user": {
      "displayName": "Jose Luis",
      "userId": "17952480099147442429"
     },
     "user_tz": 180
    },
    "id": "798ae69b-1fe2-458d-9de7-3e1ed70b9b02"
   },
   "outputs": [],
   "source": [
    "# Example code to show you how to use the Logistic Regression model\n",
    "# to predict probabilities for each class and then, use the probabilities for the\n",
    "# class 1 only.\n",
    "\n",
    "# Train data predictions (class 1)\n",
    "log_reg_train = log_reg.predict_proba(train_data)[:, 1]\n",
    "\n",
    "# Validation data predictions (class 1)\n",
    "log_reg_val = log_reg.predict_proba(val_data)[:, 1]"
   ]
  },
  {
   "attachments": {},
   "cell_type": "markdown",
   "id": "b0826305-4900-4ba1-bf25-48205be980c6",
   "metadata": {
    "id": "b0826305-4900-4ba1-bf25-48205be980c6"
   },
   "source": [
    "3.3. Get AUC ROC score on train and validation datasets. See [scikit-learn AUC ROC function](https://scikit-learn.org/stable/modules/generated/sklearn.metrics.roc_auc_score.html) for a working implementation.\n",
    "\n",
    "Assign the AUC ROC score to `lr_roc_auc` variable.\n"
   ]
  },
  {
   "attachments": {},
   "cell_type": "markdown",
   "id": "2OTXvqibhqid",
   "metadata": {
    "id": "2OTXvqibhqid"
   },
   "source": [
    "**Don't change anything in this cell, just make it run correctly**"
   ]
  },
  {
   "cell_type": "code",
   "execution_count": null,
   "id": "83a850c7",
   "metadata": {},
   "outputs": [],
   "source": [
    "# Example code to show you how to get the ROC AUC Score on train and val datasets\n",
    "\n",
    "# Train ROC AUC Score\n",
    "roc_auc_train = roc_auc_score(y_true=y_train, y_score=log_reg_train)\n",
    "print(f\"Train ROC AUC Score: {roc_auc_train:.4f}\")\n",
    "\n",
    "# Validation ROC AUC Score\n",
    "roc_auc_val = roc_auc_score(y_true=y_val, y_score=log_reg_val)\n",
    "print(f\"Validation ROC AUC Score: {roc_auc_val:.4f}\")"
   ]
  },
  {
   "attachments": {},
   "cell_type": "markdown",
   "id": "4d889582-0c21-4789-acac-4d58f8eb74d9",
   "metadata": {
    "id": "4d889582-0c21-4789-acac-4d58f8eb74d9"
   },
   "source": [
    "At this point, the model should produce a result of around 0.67.\n",
    "\n",
    "**Question:** Comparing train and validation results, do you observe underfitting, overfitting, or none of those two?"
   ]
  },
  {
   "attachments": {},
   "cell_type": "markdown",
   "id": "ap_JpPoNidg2",
   "metadata": {
    "id": "ap_JpPoNidg2"
   },
   "source": [
    "**Don't change anything in this cell, just make it run correctly**"
   ]
  },
  {
   "cell_type": "code",
   "execution_count": null,
   "id": "KWSHN2Ouidg2",
   "metadata": {
    "colab": {
     "base_uri": "https://localhost:8080/"
    },
    "executionInfo": {
     "elapsed": 624,
     "status": "ok",
     "timestamp": 1670195435233,
     "user": {
      "displayName": "Jose Luis",
      "userId": "17952480099147442429"
     },
     "user_tz": 180
    },
    "id": "KWSHN2Ouidg2",
    "outputId": "03f1bf8e-8980-4eba-d9e8-aa53c5dccd84"
   },
   "outputs": [],
   "source": [
    "if isinstance(roc_auc_val, float):\n",
    "    print(\"Success: AUC ROC score type is correct!\")\n",
    "else:\n",
    "    raise ValueError(\"AUC ROC score type is incorrect, please review your code\")\n",
    "\n",
    "if roc_auc_val >= 0.6:\n",
    "    print(\"Success: AUC ROC score is correct!\")\n",
    "else:\n",
    "    raise ValueError(\"AUC ROC score is incorrect, please review your code\")"
   ]
  },
  {
   "attachments": {},
   "cell_type": "markdown",
   "id": "8f8300cc-d8be-4303-9042-757cb9e15d3e",
   "metadata": {
    "id": "8f8300cc-d8be-4303-9042-757cb9e15d3e"
   },
   "source": [
    "### Training a Random Forest Classifier "
   ]
  },
  {
   "attachments": {},
   "cell_type": "markdown",
   "id": "05280b49-11af-4fe6-9236-95f31fb5e0d5",
   "metadata": {
    "id": "05280b49-11af-4fe6-9236-95f31fb5e0d5"
   },
   "source": [
    "You're gonna start working in more complex models: ensambles, particularly, you're going to use the Random Forest Classifier from Scikit Learn. "
   ]
  },
  {
   "attachments": {},
   "cell_type": "markdown",
   "id": "0efdfd67-ec68-49b3-8727-7ab9784b5e54",
   "metadata": {
    "id": "0efdfd67-ec68-49b3-8727-7ab9784b5e54"
   },
   "source": [
    "3.4. Train a RandomForestClassifier, print the time taken by the fit function. Just use default hyperparameters, except for `n_jobs`, which should be set to \"-1\" to allow the library to use all CPU cores to speed up training time."
   ]
  },
  {
   "cell_type": "code",
   "execution_count": null,
   "id": "1d3b9ea6-4bf9-42f0-aed1-1c0f3a4f9b39",
   "metadata": {
    "colab": {
     "base_uri": "https://localhost:8080/"
    },
    "executionInfo": {
     "elapsed": 95269,
     "status": "ok",
     "timestamp": 1670195539807,
     "user": {
      "displayName": "Jose Luis",
      "userId": "17952480099147442429"
     },
     "user_tz": 180
    },
    "id": "1d3b9ea6-4bf9-42f0-aed1-1c0f3a4f9b39",
    "outputId": "848010ac-1f2b-43ab-9873-0d78c186e804"
   },
   "outputs": [],
   "source": [
    "%%time\n",
    "\n",
    "# TODO Write your code here for training a Random Forest model.\n",
    "#   - Please use sklearn.ensemble.RandomForestClassifier() class.\n",
    "#   - Assign the model to the variable `rf`.\n",
    "#   - Remember to fit the model only on `train_data`.\n",
    "rf = \n"
   ]
  },
  {
   "attachments": {},
   "cell_type": "markdown",
   "id": "c70bf912",
   "metadata": {
    "id": "2OTXvqibhqid"
   },
   "source": [
    "**Don't change anything in this cell, just make it run correctly**"
   ]
  },
  {
   "cell_type": "code",
   "execution_count": null,
   "id": "9a21b91c",
   "metadata": {
    "colab": {
     "base_uri": "https://localhost:8080/"
    },
    "executionInfo": {
     "elapsed": 310,
     "status": "ok",
     "timestamp": 1670195424262,
     "user": {
      "displayName": "Jose Luis",
      "userId": "17952480099147442429"
     },
     "user_tz": 180
    },
    "id": "JmFsb5DShqid",
    "outputId": "3cc332c0-18c0-4257-82b7-3e95e05bc012"
   },
   "outputs": [],
   "source": [
    "if isinstance(rf, RandomForestClassifier):\n",
    "    print(\"Success: RandomForestClassifier model type is correct!\")\n",
    "else:\n",
    "    raise ValueError(\n",
    "        \"RandomForestClassifier model type is incorrect, please review your code\"\n",
    "    )\n",
    "\n",
    "check_is_fitted(rf)"
   ]
  },
  {
   "attachments": {},
   "cell_type": "markdown",
   "id": "3b12a0a5-8ff1-4cb6-9928-37122d2a3435",
   "metadata": {
    "id": "3b12a0a5-8ff1-4cb6-9928-37122d2a3435"
   },
   "source": [
    "3.5. Use the classifier to predict probabilities for `train_data` and `val_data`."
   ]
  },
  {
   "cell_type": "code",
   "execution_count": null,
   "id": "4ba80108-858c-4d4e-ba19-7f19fa526dc9",
   "metadata": {
    "executionInfo": {
     "elapsed": 4992,
     "status": "ok",
     "timestamp": 1670195577761,
     "user": {
      "displayName": "Jose Luis",
      "userId": "17952480099147442429"
     },
     "user_tz": 180
    },
    "id": "4ba80108-858c-4d4e-ba19-7f19fa526dc9"
   },
   "outputs": [],
   "source": [
    "# TODO Use the Random Forest model to predict probabilities for each class and then,\n",
    "# use the probabilities for the class 1 only.\n",
    "\n",
    "# Train data predictions (class 1)\n",
    "rf_pred_train = \n",
    "\n",
    "# Validation data predictions (class 1)\n",
    "rf_pred_val = "
   ]
  },
  {
   "attachments": {},
   "cell_type": "markdown",
   "id": "W3TrmlUF2pDM",
   "metadata": {
    "id": "W3TrmlUF2pDM"
   },
   "source": [
    "3.6. Get AUC ROC score on train and validation datasets.\n"
   ]
  },
  {
   "cell_type": "code",
   "execution_count": null,
   "id": "D4jft3Sw2pDN",
   "metadata": {
    "colab": {
     "base_uri": "https://localhost:8080/"
    },
    "executionInfo": {
     "elapsed": 378,
     "status": "ok",
     "timestamp": 1670195702088,
     "user": {
      "displayName": "Jose Luis",
      "userId": "17952480099147442429"
     },
     "user_tz": 180
    },
    "id": "D4jft3Sw2pDN",
    "outputId": "74877c11-92b3-43d3-afbe-08fb51201708"
   },
   "outputs": [],
   "source": [
    "# TODO Get the ROC AUC Score on train_data and val_data datasets.\n",
    "# Train ROC AUC Score\n",
    "roc_auc_train = \n",
    "\n",
    "# Validation ROC AUC Score\n",
    "roc_auc_val = "
   ]
  },
  {
   "attachments": {},
   "cell_type": "markdown",
   "id": "8_buAhkG24ZC",
   "metadata": {
    "id": "8_buAhkG24ZC"
   },
   "source": [
    "At this point, the model should produce a result around 0.7.\n",
    "\n",
    "**Question:** Comparing train and validation results, do you observe underfitting, overfitting, or none of those two?"
   ]
  },
  {
   "attachments": {},
   "cell_type": "markdown",
   "id": "4acfcc24-62b6-4118-9c42-a0268dcf5c53",
   "metadata": {
    "id": "4acfcc24-62b6-4118-9c42-a0268dcf5c53"
   },
   "source": [
    "### Randomized Search with Cross Validation"
   ]
  },
  {
   "attachments": {},
   "cell_type": "markdown",
   "id": "dd634b2b-68af-4db1-b062-1496f8d1179e",
   "metadata": {
    "id": "dd634b2b-68af-4db1-b062-1496f8d1179e"
   },
   "source": [
    "So far, we've only created models using the default hyperparameters of each algorithm. This is usually something that we would only do for baseline models, hyperparameter tuning is a very important part of the modeling process and is often the difference between having an acceptable model or not.\n",
    "\n",
    "But, there are usually lots of hyperparameters to tune and a finite amount of time to do it, you have to consider the time and resources it takes to find an optimal combination of them. In the previous section you trained a random forest classifier and saw how much it took to train it once in your PC. If you want to do hyperparameter optimization you now have to consider that you will have to train the algorithm N number of times, with N being the cartesian product of all parameters. \n",
    "\n",
    "Furthermore, you can't validate the performance of your trained models on the test set, as this data should only be used to validate the final model. So we have to implement a validation strategy, K-Fold Cross Validation being the most common. But this also adds time complexity to our training, because we will have to train each combinations of hyperparameters M number of times, X being the number of folds in which we divided our dataset, so the total number of training iterations will be NxM... this resulting number can grow VERY quickly.\n",
    "\n",
    "Fortunately there are strategies to mitigate this, here you're going to select a small number of hyperparameters to test a RandomForestClassifier, and use a Randomized Search algorithm with K-Fold Cross Validation to avoid doing a full search across the grid. \n",
    "\n",
    "Remember: take in consideration how much time it took to train a single classifier, and define the number of cross validations folds and iterations of the search accordingly. \n",
    "A recommendation: run the training process, go make yourself a cup of coffee, sit somewhere comfortably and forget about it for a while.\n"
   ]
  },
  {
   "attachments": {},
   "cell_type": "markdown",
   "id": "c49a11c7-156f-46bb-8bba-be29d1b2ed1a",
   "metadata": {
    "id": "c49a11c7-156f-46bb-8bba-be29d1b2ed1a"
   },
   "source": [
    "3.7. Use `sklearn.model_selection.RandomizedSearchCV()` to find the best combination of hyperparameters for a Random Forest model. \n",
    "\n",
    "The validation metric used to evaluate the models should be \"roc_auc\" (i.e. `scoring=\"roc_auc\"`)."
   ]
  },
  {
   "cell_type": "code",
   "execution_count": null,
   "id": "2dd0e41d",
   "metadata": {},
   "outputs": [],
   "source": [
    "%%time\n",
    "\n",
    "# TODO Write your code here for training a Random Forest model using Random Search\n",
    "# of hyper-parameters.\n",
    "#   - Please use sklearn.model_selection.RandomizedSearchCV() and\n",
    "#     sklearn.ensemble.RandomForestClassifier() classes.\n",
    "#   - Assign the RandomizedSearchCV model to the variable `rf_random`.\n",
    "#   - Remember to fit the model only on `train_data`.\n",
    "rf_random = \n"
   ]
  },
  {
   "attachments": {},
   "cell_type": "markdown",
   "id": "b09205aa-5afc-481a-b45b-d5e80b56d804",
   "metadata": {
    "id": "b09205aa-5afc-481a-b45b-d5e80b56d804"
   },
   "source": [
    "3.8. Use the classifier to predict probabilities on the train and test data.\n"
   ]
  },
  {
   "cell_type": "code",
   "execution_count": null,
   "id": "4429ca94-57f4-487e-b3dd-883bc7bc7835",
   "metadata": {
    "executionInfo": {
     "elapsed": 10144,
     "status": "ok",
     "timestamp": 1670198429448,
     "user": {
      "displayName": "Jose Luis",
      "userId": "17952480099147442429"
     },
     "user_tz": 180
    },
    "id": "4429ca94-57f4-487e-b3dd-883bc7bc7835"
   },
   "outputs": [],
   "source": [
    "# TODO Use the RandomizedSearchCV model to predict probabilities for each class and\n",
    "# then, use the probabilities for the class 1 only.\n",
    "\n",
    "# Train data predictions (class 1)\n",
    "rf_tuned_pred_train =\n",
    "\n",
    "# Validation data predictions (class 1)\n",
    "rf_tuned_pred_val ="
   ]
  },
  {
   "attachments": {},
   "cell_type": "markdown",
   "id": "e645e849-a7e0-43af-b7d1-0b84c29f0e70",
   "metadata": {
    "id": "e645e849-a7e0-43af-b7d1-0b84c29f0e70"
   },
   "source": [
    "3.9. Get AUC ROC score on train and validation datasets."
   ]
  },
  {
   "cell_type": "code",
   "execution_count": null,
   "id": "953f2204-304a-405b-b51b-350f054eb3f4",
   "metadata": {
    "colab": {
     "base_uri": "https://localhost:8080/"
    },
    "executionInfo": {
     "elapsed": 412,
     "status": "ok",
     "timestamp": 1670199416165,
     "user": {
      "displayName": "Jose Luis",
      "userId": "17952480099147442429"
     },
     "user_tz": 180
    },
    "id": "953f2204-304a-405b-b51b-350f054eb3f4",
    "outputId": "e0c4bfdd-1188-4e6f-9bee-0148aa036543"
   },
   "outputs": [],
   "source": [
    "# TODO Get the ROC AUC Score on train_data and val_data datasets.\n",
    "# Train ROC AUC Score\n",
    "roc_auc_train =\n",
    "\n",
    "# Validation ROC AUC Score\n",
    "roc_auc_val ="
   ]
  },
  {
   "attachments": {},
   "cell_type": "markdown",
   "id": "_ZAAkhx1X1Qt",
   "metadata": {
    "id": "_ZAAkhx1X1Qt"
   },
   "source": [
    "At this point, the model should produce a result around 0.7 or higher.\n",
    "\n",
    "**Question:** Comparing train and validation results, do you observe underfitting, overfitting, or none of those two?"
   ]
  },
  {
   "attachments": {},
   "cell_type": "markdown",
   "id": "2143f7b6",
   "metadata": {},
   "source": [
    "## 4. Predict unlabeled data\n",
    "\n",
    "Now it's time to finally use the `test_data` samples. Because we don't have the labels we can't see how the model performs on this dataset (╯°□°)╯︵ ┻━┻\n",
    "\n",
    "But... don't worry, we will internally evaluate your model and give feedback on the results!\n",
    "\n",
    "In the cells below:\n",
    "- Take your best model\n",
    "- Take `test_data` (i.e. the dataset after doing the preprocessing and feature engineering part)\n",
    "- Run the data through your model and save the predictions on the `TARGET` column in the `app_test` DataFrame (yeah that we've loaded at the very beginning of this notebook).\n",
    "    - `TARGET` column values must be the probabilities for class 1. So remember to use the `predict_proba()` function from your model as we did in the previous sections.\n",
    "- Save the modified version of the DataFrame with the same name it has before (`dataset/application_test_aai.csv`) and don't forget to submit it alongside the rest of this sprint project code\n",
    "- And finally, don't get confused, you shouldn't submit `dataset/application_train_aai.csv`. So please don't upload your solution with this heavy dataset inside.\n",
    "\n",
    "Let's say your best model is called `best_credit_model_ever`, then your code should be exactly this:\n",
    "\n",
    "```python\n",
    "    test_preds = best_credit_model_ever.predict_proba(test_data)[:, 1]\n",
    "    app_test[\"TARGET\"] = test_preds\n",
    "    app_test.to_csv(config.DATASET_TEST, index=False)\n",
    "```\n"
   ]
  },
  {
   "cell_type": "code",
   "execution_count": null,
   "id": "c99b20f2",
   "metadata": {},
   "outputs": [],
   "source": [
    "%%time\n",
    "\n",
    "# TODO Use your best model and call the predict_proba() on test_data then,\n",
    "# use the probabilities for the class 1 only.\n",
    "# Then, put the predictions in app_test[\"TARGET\"] and save the DataFrame as a csv\n",
    "# with the same name it originally has (\"application_test_aai.csv\").\n"
   ]
  },
  {
   "attachments": {},
   "cell_type": "markdown",
   "id": "1ad777cd",
   "metadata": {},
   "source": [
    "## 5. Optional exercises"
   ]
  },
  {
   "attachments": {},
   "cell_type": "markdown",
   "id": "d72e7335-f3cc-410d-81f2-f110f3fbb252",
   "metadata": {
    "id": "d72e7335-f3cc-410d-81f2-f110f3fbb252"
   },
   "source": [
    "### Optional: Training a LightGBM model "
   ]
  },
  {
   "attachments": {},
   "cell_type": "markdown",
   "id": "015d58b7-9f70-4bfb-8b72-20a626e00ea0",
   "metadata": {
    "id": "015d58b7-9f70-4bfb-8b72-20a626e00ea0"
   },
   "source": [
    "5.1. Gradient Boosting Machine is one of the most used machine learning algorithms for tabular data. Lots of competitions have been won using models from libraries like XGBoost or LightGBM. You can try using [LightGBM](https://lightgbm.readthedocs.io/en/latest/) to train a new model an see how it performs compared to the other classifiers you trained. "
   ]
  },
  {
   "cell_type": "code",
   "execution_count": null,
   "id": "91d497eb-2b8b-43fe-945e-26a04b8fc004",
   "metadata": {
    "id": "91d497eb-2b8b-43fe-945e-26a04b8fc004"
   },
   "outputs": [],
   "source": [
    "### Complete in this cell: train a LightGBM model"
   ]
  },
  {
   "attachments": {},
   "cell_type": "markdown",
   "id": "c2d1a1f4-5e1e-4982-a6ae-a27b8c11428e",
   "metadata": {
    "id": "c2d1a1f4-5e1e-4982-a6ae-a27b8c11428e"
   },
   "source": [
    "### Optional: Using Scikit Learn Pipelines "
   ]
  },
  {
   "attachments": {},
   "cell_type": "markdown",
   "id": "2e4f95fb-73bf-42c4-97a3-80078f2496aa",
   "metadata": {
    "id": "2e4f95fb-73bf-42c4-97a3-80078f2496aa"
   },
   "source": [
    "5.2. So far you've created special functions or blocks or code to chain operations on data and then train the models. But, reproducibility is important, and you don't want to have to remember the correct steps to follow each time you have new data to train your models. There are a lots of tools out there that can help you with that, here you can use a [Sklearn Pipeline](https://scikit-learn.org/stable/modules/generated/sklearn.pipeline.Pipeline.html) to process your data."
   ]
  },
  {
   "cell_type": "code",
   "execution_count": null,
   "id": "5a5eecdf-ee08-4ebd-8667-25cdb9a3eef4",
   "metadata": {
    "id": "5a5eecdf-ee08-4ebd-8667-25cdb9a3eef4"
   },
   "outputs": [],
   "source": [
    "### Complete in this cell: use a sklearn Pipeline to automate the cleaning, standardizing and training"
   ]
  },
  {
   "attachments": {},
   "cell_type": "markdown",
   "id": "46fcadf8",
   "metadata": {},
   "source": [
    "### Optional: Build your own model and features\n",
    "\n",
    "5.3. If you want you can take the original labeled data given and make your own feature selection, data preprocessing, and model tunning. Be creative, the only limit is time and hardware resources. Only be careful and don't modify the previous functions made in the mandatory assignments or, you will break the project tests.\n",
    "\n",
    "You can even use this newer model to make predictions in the test dataset with hidden labels and submit that.\n"
   ]
  },
  {
   "cell_type": "code",
   "execution_count": null,
   "id": "942da44e",
   "metadata": {},
   "outputs": [],
   "source": [
    "### Complete in this cell: Make you own experimentation process"
   ]
  }
 ],
 "metadata": {
  "colab": {
   "provenance": []
  },
  "kernelspec": {
   "display_name": "sp02",
   "language": "python",
   "name": "python3"
  },
  "language_info": {
   "codemirror_mode": {
    "name": "ipython",
    "version": 3
   },
   "file_extension": ".py",
   "mimetype": "text/x-python",
   "name": "python",
   "nbconvert_exporter": "python",
   "pygments_lexer": "ipython3",
   "version": "3.11.3"
  },
  "vscode": {
   "interpreter": {
    "hash": "e94ba2b62eb694bae49fa8de0ed9e62de168312db56a1c4a0a8d614a40cedec1"
   }
  }
 },
 "nbformat": 4,
 "nbformat_minor": 5
}
